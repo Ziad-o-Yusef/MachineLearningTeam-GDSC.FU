{
 "cells": [
  {
   "cell_type": "code",
   "execution_count": 1,
   "id": "ddcaa21c",
   "metadata": {},
   "outputs": [],
   "source": [
    "def func_pass():\n",
    "    pass \n",
    "#_____________________________#\n",
    "\n",
    "def func_1():\n",
    "    group_name = ' ML Hands On '\n",
    "    print(group_name)"
   ]
  },
  {
   "cell_type": "code",
   "execution_count": 2,
   "id": "e08fd026",
   "metadata": {},
   "outputs": [
    {
     "name": "stdout",
     "output_type": "stream",
     "text": [
      " ML Hands On \n"
     ]
    }
   ],
   "source": [
    "func_1()"
   ]
  },
  {
   "cell_type": "code",
   "execution_count": 3,
   "id": "e7cd48c4",
   "metadata": {},
   "outputs": [],
   "source": [
    "def func_2():\n",
    "    x = 2\n",
    "    y = 3 \n",
    "    x + y "
   ]
  },
  {
   "cell_type": "code",
   "execution_count": 9,
   "id": "e7e03b7f",
   "metadata": {},
   "outputs": [
    {
     "data": {
      "text/plain": [
       "NoneType"
      ]
     },
     "execution_count": 9,
     "metadata": {},
     "output_type": "execute_result"
    }
   ],
   "source": [
    "x = \"ML\"\n",
    "Y = 1234\n",
    "type(func_2())"
   ]
  },
  {
   "cell_type": "code",
   "execution_count": 29,
   "id": "9c727207",
   "metadata": {},
   "outputs": [],
   "source": [
    "def func_3():\n",
    "    name = \"Mohammed\"\n",
    "    age = 22 \n",
    "    return {'name': name ,\n",
    "           \"age\": age}"
   ]
  },
  {
   "cell_type": "code",
   "execution_count": 30,
   "id": "bb58d798",
   "metadata": {},
   "outputs": [
    {
     "data": {
      "text/plain": [
       "dict"
      ]
     },
     "execution_count": 30,
     "metadata": {},
     "output_type": "execute_result"
    }
   ],
   "source": [
    "type(func_3())"
   ]
  },
  {
   "cell_type": "code",
   "execution_count": 31,
   "id": "5a2c13ba",
   "metadata": {},
   "outputs": [
    {
     "data": {
      "text/plain": [
       "{'name': 'Mohammed', 'age': 22}"
      ]
     },
     "execution_count": 31,
     "metadata": {},
     "output_type": "execute_result"
    }
   ],
   "source": [
    "func_3()"
   ]
  },
  {
   "cell_type": "code",
   "execution_count": 32,
   "id": "63c51eb8",
   "metadata": {},
   "outputs": [],
   "source": [
    "def func_4():\n",
    "    x = 2\n",
    "    y = 3 \n",
    "    return x + y "
   ]
  },
  {
   "cell_type": "code",
   "execution_count": 39,
   "id": "38eee6a1",
   "metadata": {},
   "outputs": [],
   "source": [
    "def func_5(num_1,num_2):\n",
    "    x = num_1\n",
    "    y = num_2\n",
    "    return x + y "
   ]
  },
  {
   "cell_type": "code",
   "execution_count": 46,
   "id": "41964cfc",
   "metadata": {},
   "outputs": [
    {
     "data": {
      "text/plain": [
       "30"
      ]
     },
     "execution_count": 46,
     "metadata": {},
     "output_type": "execute_result"
    }
   ],
   "source": [
    "func_5(10,20)"
   ]
  },
  {
   "cell_type": "code",
   "execution_count": 41,
   "id": "766818d6",
   "metadata": {},
   "outputs": [],
   "source": [
    "def func_6(num_1,num_2 = 0):\n",
    "    x = num_1\n",
    "    y = num_2\n",
    "    return x + y "
   ]
  },
  {
   "cell_type": "code",
   "execution_count": 48,
   "id": "77a21c86",
   "metadata": {},
   "outputs": [
    {
     "data": {
      "text/plain": [
       "30"
      ]
     },
     "execution_count": 48,
     "metadata": {},
     "output_type": "execute_result"
    }
   ],
   "source": [
    "func_6(10,20)"
   ]
  },
  {
   "cell_type": "code",
   "execution_count": 56,
   "id": "f23fafaf",
   "metadata": {},
   "outputs": [],
   "source": [
    "def func_to_loop(start_num):\n",
    "    if start_num >= 0:\n",
    "        print(start_num)\n",
    "        start_num =start_num - 1 \n",
    "        func_to_loop(start_num)\n",
    "    else: \n",
    "        print(\"less than 0\") "
   ]
  },
  {
   "cell_type": "code",
   "execution_count": 58,
   "id": "8ef188c4",
   "metadata": {
    "scrolled": false
   },
   "outputs": [
    {
     "name": "stdout",
     "output_type": "stream",
     "text": [
      "10\n",
      "9\n",
      "8\n",
      "7\n",
      "6\n",
      "5\n",
      "4\n",
      "3\n",
      "2\n",
      "1\n",
      "0\n",
      "less than 0\n"
     ]
    }
   ],
   "source": [
    "func_to_loop(10)"
   ]
  },
  {
   "cell_type": "code",
   "execution_count": 59,
   "id": "8a58a59e",
   "metadata": {},
   "outputs": [],
   "source": [
    "class My_first_class:\n",
    "    x = 5 \n",
    "    y = \"How r u\""
   ]
  },
  {
   "cell_type": "code",
   "execution_count": 60,
   "id": "d15f3545",
   "metadata": {},
   "outputs": [],
   "source": [
    "opj = My_first_class()\n"
   ]
  },
  {
   "cell_type": "code",
   "execution_count": 61,
   "id": "165dad4e",
   "metadata": {},
   "outputs": [
    {
     "data": {
      "text/plain": [
       "5"
      ]
     },
     "execution_count": 61,
     "metadata": {},
     "output_type": "execute_result"
    }
   ],
   "source": [
    "opj.x"
   ]
  },
  {
   "cell_type": "code",
   "execution_count": 62,
   "id": "4693c036",
   "metadata": {},
   "outputs": [
    {
     "data": {
      "text/plain": [
       "'How r u'"
      ]
     },
     "execution_count": 62,
     "metadata": {},
     "output_type": "execute_result"
    }
   ],
   "source": [
    "opj.y"
   ]
  },
  {
   "cell_type": "code",
   "execution_count": 75,
   "id": "e6c94092",
   "metadata": {},
   "outputs": [],
   "source": [
    "class person:\n",
    "    def __init__(self,name , gender,perth_year):\n",
    "        self.name = name \n",
    "        self.six = gender \n",
    "        self.perth_year = perth_year\n",
    "        "
   ]
  },
  {
   "cell_type": "code",
   "execution_count": 76,
   "id": "248f88dc",
   "metadata": {},
   "outputs": [],
   "source": [
    "person_1 = person(\"Ziad\",\"Man\",2000)"
   ]
  },
  {
   "cell_type": "code",
   "execution_count": 77,
   "id": "c1d14de2",
   "metadata": {},
   "outputs": [
    {
     "data": {
      "text/plain": [
       "'Man'"
      ]
     },
     "execution_count": 77,
     "metadata": {},
     "output_type": "execute_result"
    }
   ],
   "source": [
    "person_1.six\n"
   ]
  },
  {
   "cell_type": "code",
   "execution_count": 99,
   "id": "e6df593d",
   "metadata": {},
   "outputs": [],
   "source": [
    "class person:\n",
    "    def __init__(self,name , gender,perth_year):\n",
    "        self.name = name \n",
    "        self.six = gender \n",
    "        self.perth_year = perth_year\n",
    "    \n",
    "    def age(self):\n",
    "        return 2023 -self.perth_year"
   ]
  },
  {
   "cell_type": "code",
   "execution_count": 100,
   "id": "7eccc471",
   "metadata": {},
   "outputs": [],
   "source": [
    "person_1 = person(\"Ziad\",\"Man\",2000)"
   ]
  },
  {
   "cell_type": "code",
   "execution_count": 101,
   "id": "1fb21f87",
   "metadata": {},
   "outputs": [
    {
     "data": {
      "text/plain": [
       "23"
      ]
     },
     "execution_count": 101,
     "metadata": {},
     "output_type": "execute_result"
    }
   ],
   "source": [
    "person_1.age()"
   ]
  },
  {
   "cell_type": "code",
   "execution_count": 123,
   "id": "c0efbec8",
   "metadata": {},
   "outputs": [],
   "source": [
    "class person:\n",
    "    def __init__(self,name , gender,perth_year):\n",
    "        self.name = name \n",
    "        self.six = gender \n",
    "        self.perth_year = perth_year\n",
    "    \n",
    "    def age(self):\n",
    "        return 2023 -self.perth_year\n",
    "    def education(self,education = \"no education\"):\n",
    "        edu = education\n",
    "        return  edu\n",
    "    def experince(self):\n",
    "        return self.edu"
   ]
  },
  {
   "cell_type": "code",
   "execution_count": 124,
   "id": "997b9499",
   "metadata": {},
   "outputs": [],
   "source": [
    "person_1 = person(\"Ziad\",\"Man\",2000)"
   ]
  },
  {
   "cell_type": "code",
   "execution_count": 125,
   "id": "ad729e72",
   "metadata": {},
   "outputs": [
    {
     "data": {
      "text/plain": [
       "'Engineering'"
      ]
     },
     "execution_count": 125,
     "metadata": {},
     "output_type": "execute_result"
    }
   ],
   "source": [
    "person_1.education(\"Engineering\")"
   ]
  },
  {
   "cell_type": "code",
   "execution_count": 126,
   "id": "b2fb1ce7",
   "metadata": {},
   "outputs": [
    {
     "ename": "AttributeError",
     "evalue": "'person' object has no attribute 'edu'",
     "output_type": "error",
     "traceback": [
      "\u001b[1;31m---------------------------------------------------------------------------\u001b[0m",
      "\u001b[1;31mAttributeError\u001b[0m                            Traceback (most recent call last)",
      "\u001b[1;32m<ipython-input-126-05d53baa81ef>\u001b[0m in \u001b[0;36m<module>\u001b[1;34m\u001b[0m\n\u001b[1;32m----> 1\u001b[1;33m \u001b[0mperson_1\u001b[0m\u001b[1;33m.\u001b[0m\u001b[0mexperince\u001b[0m\u001b[1;33m(\u001b[0m\u001b[1;33m)\u001b[0m\u001b[1;33m\u001b[0m\u001b[1;33m\u001b[0m\u001b[0m\n\u001b[0m",
      "\u001b[1;32m<ipython-input-123-83694acaf4a6>\u001b[0m in \u001b[0;36mexperince\u001b[1;34m(self)\u001b[0m\n\u001b[0;32m     11\u001b[0m         \u001b[1;32mreturn\u001b[0m  \u001b[0medu\u001b[0m\u001b[1;33m\u001b[0m\u001b[1;33m\u001b[0m\u001b[0m\n\u001b[0;32m     12\u001b[0m     \u001b[1;32mdef\u001b[0m \u001b[0mexperince\u001b[0m\u001b[1;33m(\u001b[0m\u001b[0mself\u001b[0m\u001b[1;33m)\u001b[0m\u001b[1;33m:\u001b[0m\u001b[1;33m\u001b[0m\u001b[1;33m\u001b[0m\u001b[0m\n\u001b[1;32m---> 13\u001b[1;33m         \u001b[1;32mreturn\u001b[0m \u001b[0mself\u001b[0m\u001b[1;33m.\u001b[0m\u001b[0medu\u001b[0m\u001b[1;33m\u001b[0m\u001b[1;33m\u001b[0m\u001b[0m\n\u001b[0m",
      "\u001b[1;31mAttributeError\u001b[0m: 'person' object has no attribute 'edu'"
     ]
    }
   ],
   "source": [
    "person_1.experince()"
   ]
  },
  {
   "cell_type": "code",
   "execution_count": 129,
   "id": "cde0c464",
   "metadata": {},
   "outputs": [],
   "source": [
    "# school sys \n",
    "#___________\n",
    "# name \n",
    "# date \n",
    "# phone \n",
    "# address \n",
    "# supjects \n",
    "# creat ID \n",
    "#________________\n",
    "# take this data \n",
    "# create student opj\n",
    "# options : add grades , add gpa , shaow data \n",
    "#_______\n",
    "# search using ID "
   ]
  },
  {
   "cell_type": "code",
   "execution_count": 12,
   "id": "546a983d",
   "metadata": {},
   "outputs": [],
   "source": [
    "id_creation = 0\n",
    "database = {}\n",
    "def user_interface():\n",
    "    global id_creation\n",
    "    global database       \n",
    "    selection = int(input(\"Add new stuent [1], search about student [2]\"))\n",
    "    if selection == 1 :\n",
    "        data_supject = []\n",
    "        name = input('Student name: ')\n",
    "        date = int(input('Student perth date year : '))\n",
    "        for i in range(4):\n",
    "            data_supject.append(input('supject' + str(i) + \": \")) \n",
    "        phone = input('Student phone: ')    \n",
    "        address   = input('Student address: ')    \n",
    "        s_id = id_creation\n",
    "        id_creation = id_creation+1 \n",
    "        st_opj = shcool_student(s_id,name,date,data_supject,phone,address)\n",
    "        database[s_id] = st_opj\n",
    "        return s_id\n",
    "\n",
    "    else:\n",
    "        s_id = int(input(\"Student ID: \"))\n",
    "        return database[s_id]"
   ]
  },
  {
   "cell_type": "code",
   "execution_count": 13,
   "id": "115d82c5",
   "metadata": {},
   "outputs": [],
   "source": [
    "class shcool_student:\n",
    "    def __init__(self,s_id,name,date,data_supject,phone,address,gpa = 0):\n",
    "        self.s_id = s_id\n",
    "        self.name = name\n",
    "        self. date = date\n",
    "        self.data_supject= data_supject\n",
    "        self.phone = phone\n",
    "        self.address = address\n",
    "        self.supject_grades = {\n",
    "            self.data_supject[0] : 0,\n",
    "            self.data_supject[1] : 0,\n",
    "            self.data_supject[2] : 0,\n",
    "            self.data_supject[3] : 0\n",
    "        }\n",
    "        self.gpa = gpa\n",
    "    def show_data(self):\n",
    "        print(\"ID : \" + str(self.s_id) )\n",
    "        print(\"name : \" + str(self.name) )\n",
    "        print(\"data_supject : \" + str(self.data_supject) )\n",
    "        print(\"phone : \" + str(self.phone) )\n",
    "        print(\"address : \" + str(self.address) )\n",
    "        print(\"grades : \" + str(self.supject_grades) )\n",
    "        \n",
    "    def add_grade(self,supject,grade):\n",
    "        self.supject_grades[supject] = grade\n",
    "        print('done')\n",
    "    \n",
    "    def gpa_add(self,grade):\n",
    "        self.gpa = grade\n",
    "        print('done') \n",
    "        "
   ]
  },
  {
   "cell_type": "code",
   "execution_count": 14,
   "id": "f5eec4ea",
   "metadata": {},
   "outputs": [
    {
     "name": "stdout",
     "output_type": "stream",
     "text": [
      "Add new stuent [1], search about student [2]1\n",
      "Student name: Ziad \n",
      "Student perth date year : 2001 \n",
      "upject0: math\n",
      "upject1: cs\n",
      "upject2: arc \n",
      "upject3: electro\n",
      "Student phone: +201098784098\n",
      "Student address: fayoum\n"
     ]
    },
    {
     "data": {
      "text/plain": [
       "0"
      ]
     },
     "execution_count": 14,
     "metadata": {},
     "output_type": "execute_result"
    }
   ],
   "source": [
    "user_interface()"
   ]
  },
  {
   "cell_type": "code",
   "execution_count": 15,
   "id": "ef97fdbd",
   "metadata": {},
   "outputs": [
    {
     "name": "stdout",
     "output_type": "stream",
     "text": [
      "Add new stuent [1], search about student [2]2\n",
      "Student ID: 0\n"
     ]
    }
   ],
   "source": [
    "st = user_interface()"
   ]
  },
  {
   "cell_type": "code",
   "execution_count": 21,
   "id": "82d72244",
   "metadata": {},
   "outputs": [
    {
     "name": "stdout",
     "output_type": "stream",
     "text": [
      "ID : 0\n",
      "name : Ziad \n",
      "data_supject : ['math', 'cs', 'arc ', 'electro']\n",
      "phone : +201098784098\n",
      "address : fayoum\n",
      "address : {'math': 80, 'cs': 0, 'arc ': 0, 'electro': 0}\n"
     ]
    }
   ],
   "source": [
    "st.show_data()"
   ]
  },
  {
   "cell_type": "code",
   "execution_count": 20,
   "id": "4102c8fd",
   "metadata": {},
   "outputs": [
    {
     "name": "stdout",
     "output_type": "stream",
     "text": [
      "done\n"
     ]
    }
   ],
   "source": [
    "st.add_grade('math',80)"
   ]
  },
  {
   "cell_type": "code",
   "execution_count": 24,
   "id": "0d17a757",
   "metadata": {},
   "outputs": [],
   "source": [
    "st.gpa = 10 "
   ]
  },
  {
   "cell_type": "code",
   "execution_count": 25,
   "id": "6fb3be34",
   "metadata": {},
   "outputs": [
    {
     "data": {
      "text/plain": [
       "10"
      ]
     },
     "execution_count": 25,
     "metadata": {},
     "output_type": "execute_result"
    }
   ],
   "source": [
    "st.gpa "
   ]
  },
  {
   "cell_type": "code",
   "execution_count": 26,
   "id": "6ac34e29",
   "metadata": {},
   "outputs": [
    {
     "data": {
      "text/plain": [
       "{0: <__main__.shcool_student at 0x20292180ca0>}"
      ]
     },
     "execution_count": 26,
     "metadata": {},
     "output_type": "execute_result"
    }
   ],
   "source": [
    "database"
   ]
  },
  {
   "cell_type": "code",
   "execution_count": null,
   "id": "368ecea1",
   "metadata": {},
   "outputs": [],
   "source": []
  }
 ],
 "metadata": {
  "kernelspec": {
   "display_name": "Python 3",
   "language": "python",
   "name": "python3"
  },
  "language_info": {
   "codemirror_mode": {
    "name": "ipython",
    "version": 3
   },
   "file_extension": ".py",
   "mimetype": "text/x-python",
   "name": "python",
   "nbconvert_exporter": "python",
   "pygments_lexer": "ipython3",
   "version": "3.8.8"
  }
 },
 "nbformat": 4,
 "nbformat_minor": 5
}
