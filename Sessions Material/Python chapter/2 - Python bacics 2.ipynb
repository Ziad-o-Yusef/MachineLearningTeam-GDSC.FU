{
 "cells": [
  {
   "attachments": {},
   "cell_type": "markdown",
   "id": "8bd8c2fe",
   "metadata": {},
   "source": [
    "## Python Conditions "
   ]
  },
  {
   "cell_type": "code",
   "execution_count": 1,
   "id": "dd29b257",
   "metadata": {},
   "outputs": [
    {
     "data": {
      "text/plain": [
       "False"
      ]
     },
     "execution_count": 1,
     "metadata": {},
     "output_type": "execute_result"
    }
   ],
   "source": [
    "#Equals \n",
    "x , y= 5,4 \n",
    "x == y "
   ]
  },
  {
   "cell_type": "code",
   "execution_count": 2,
   "id": "f9bbfcac",
   "metadata": {},
   "outputs": [
    {
     "data": {
      "text/plain": [
       "True"
      ]
     },
     "execution_count": 2,
     "metadata": {},
     "output_type": "execute_result"
    }
   ],
   "source": [
    "# Not equal\n",
    "x != y "
   ]
  },
  {
   "cell_type": "code",
   "execution_count": 3,
   "id": "b5a7543f",
   "metadata": {},
   "outputs": [
    {
     "data": {
      "text/plain": [
       "False"
      ]
     },
     "execution_count": 3,
     "metadata": {},
     "output_type": "execute_result"
    }
   ],
   "source": [
    "# leass than\n",
    "x , y= 5,4 \n",
    "x < y "
   ]
  },
  {
   "cell_type": "code",
   "execution_count": 4,
   "id": "cf64151f",
   "metadata": {},
   "outputs": [
    {
     "data": {
      "text/plain": [
       "True"
      ]
     },
     "execution_count": 4,
     "metadata": {},
     "output_type": "execute_result"
    }
   ],
   "source": [
    "# greater than or equal \n",
    "x , y= 5,4 \n",
    "x >= y "
   ]
  },
  {
   "cell_type": "code",
   "execution_count": 5,
   "id": "f462afb9",
   "metadata": {},
   "outputs": [
    {
     "data": {
      "text/plain": [
       "False"
      ]
     },
     "execution_count": 5,
     "metadata": {},
     "output_type": "execute_result"
    }
   ],
   "source": [
    "# Less than or equa\n",
    "x , y= 5,4 \n",
    "x <= y "
   ]
  },
  {
   "cell_type": "markdown",
   "id": "12884824",
   "metadata": {},
   "source": [
    "## IF stetments "
   ]
  },
  {
   "cell_type": "code",
   "execution_count": 7,
   "id": "acfdc81e",
   "metadata": {},
   "outputs": [
    {
     "name": "stdout",
     "output_type": "stream",
     "text": [
      "y greater than\n"
     ]
    }
   ],
   "source": [
    "x , y = 3,4  \n",
    "if x < y :\n",
    "    print('y greater than')"
   ]
  },
  {
   "cell_type": "code",
   "execution_count": 8,
   "id": "97286bc1",
   "metadata": {},
   "outputs": [],
   "source": [
    "x , y = 3,4  \n",
    "if x > y :\n",
    "    print('y greater than')\n"
   ]
  },
  {
   "cell_type": "code",
   "execution_count": 10,
   "id": "2dfbe0eb",
   "metadata": {},
   "outputs": [
    {
     "name": "stdout",
     "output_type": "stream",
     "text": [
      "x greater than\n"
     ]
    }
   ],
   "source": [
    "# elif \n",
    "x , y = 5,4  \n",
    "if x < y :\n",
    "    print('y greater than')\n",
    "elif x > y :\n",
    "\tprint('x greater than')\n"
   ]
  },
  {
   "cell_type": "code",
   "execution_count": 12,
   "id": "d4ebb369",
   "metadata": {},
   "outputs": [
    {
     "name": "stdout",
     "output_type": "stream",
     "text": [
      "x greater than\n"
     ]
    }
   ],
   "source": [
    "x , y = 5,4  \n",
    "if x < y :\n",
    "    print('y greater tha')\n",
    "elif x  > y :\n",
    "\tprint('x greater than')\n",
    "elif x == y :\n",
    "\tprint('equality')\n"
   ]
  },
  {
   "cell_type": "code",
   "execution_count": 13,
   "id": "ea0f26fd",
   "metadata": {},
   "outputs": [
    {
     "name": "stdout",
     "output_type": "stream",
     "text": [
      "a is greater than b\n"
     ]
    }
   ],
   "source": [
    "# else \n",
    "a = 200\n",
    "b = 33\n",
    "if b > a:\n",
    "    print(\"b is greater than a\")\n",
    "elif a == b:\n",
    "    print(\"a and b are equal\")\n",
    "else:\n",
    "    print(\"a is greater than b\")\n"
   ]
  },
  {
   "cell_type": "code",
   "execution_count": 15,
   "id": "81b4002a",
   "metadata": {},
   "outputs": [
    {
     "name": "stdout",
     "output_type": "stream",
     "text": [
      "a is greater than b\n"
     ]
    }
   ],
   "source": [
    "a = 200\n",
    "b = 33\n",
    "if a > b: print(\"a is greater than b\")\n"
   ]
  },
  {
   "cell_type": "code",
   "execution_count": 17,
   "id": "1690a8ec",
   "metadata": {},
   "outputs": [
    {
     "name": "stdout",
     "output_type": "stream",
     "text": [
      "B\n"
     ]
    }
   ],
   "source": [
    "a = 200\n",
    "b = 33\n",
    "print(\"A\") if a < b else print(\"B\")\n"
   ]
  },
  {
   "cell_type": "code",
   "execution_count": 19,
   "id": "89036293",
   "metadata": {},
   "outputs": [
    {
     "name": "stdout",
     "output_type": "stream",
     "text": [
      "B\n"
     ]
    }
   ],
   "source": [
    "#You can also have multiple else statements on the same line.\n",
    "a = 200\n",
    "b = 33\n",
    "print(\"A\") if a < b else print(\"=\") if a == b else print(\"B\")\n"
   ]
  },
  {
   "cell_type": "code",
   "execution_count": 20,
   "id": "cefacbc8",
   "metadata": {},
   "outputs": [
    {
     "name": "stdout",
     "output_type": "stream",
     "text": [
      "Both conditions are True\n"
     ]
    }
   ],
   "source": [
    "# The and keyword is a logical operator, and is used to combine conditional statements.\n",
    "a = 200\n",
    "b = 33\n",
    "c = 500\n",
    "if a > b and c > a:\n",
    "    print(\"Both conditions are True\")\n"
   ]
  },
  {
   "cell_type": "code",
   "execution_count": 21,
   "id": "98b477d4",
   "metadata": {},
   "outputs": [
    {
     "name": "stdout",
     "output_type": "stream",
     "text": [
      "At least one of the conditions is True\n"
     ]
    }
   ],
   "source": [
    "# The or keyword is a logical operator, and is used to combine conditional statements\n",
    "a = 200\n",
    "b = 33\n",
    "c = 500\n",
    "if a > b or c < a:\n",
    "    print(\"At least one of the conditions is True\")\n"
   ]
  },
  {
   "cell_type": "code",
   "execution_count": 22,
   "id": "6b851426",
   "metadata": {},
   "outputs": [],
   "source": [
    "'''\n",
    "if statements cannot be empty,\n",
    "but if you for some reason have an if statement with no content, \n",
    "put in the pass statement to avoid getting an error.\n",
    "\n",
    "'''\n",
    "a , b = 200,300\n",
    "if b > a:\n",
    "  \tpass\n"
   ]
  },
  {
   "cell_type": "markdown",
   "id": "b4181f4f",
   "metadata": {},
   "source": [
    "## Loops "
   ]
  },
  {
   "cell_type": "code",
   "execution_count": 23,
   "id": "cd6e3da5",
   "metadata": {},
   "outputs": [
    {
     "name": "stdout",
     "output_type": "stream",
     "text": [
      "1\n",
      "2\n",
      "3\n",
      "4\n",
      "5\n"
     ]
    }
   ],
   "source": [
    "# While loop\n",
    "\n",
    "i = 1\n",
    "while i < 6:\n",
    "    print(i)\n",
    "    i += 1\n"
   ]
  },
  {
   "cell_type": "code",
   "execution_count": 24,
   "id": "9120c5d5",
   "metadata": {},
   "outputs": [
    {
     "name": "stdout",
     "output_type": "stream",
     "text": [
      "1\n",
      "2\n",
      "3\n"
     ]
    }
   ],
   "source": [
    "# break \n",
    "i = 1\n",
    "while i < 6:\n",
    "    print(i)\n",
    "    if i == 3:\n",
    "         break\n",
    "    i += 1\n"
   ]
  },
  {
   "cell_type": "code",
   "execution_count": null,
   "id": "a3f4ec07",
   "metadata": {},
   "outputs": [],
   "source": [
    "# continue\n",
    "i = 1\n",
    "while i < 6:\n",
    "    print(i)\n",
    "    if i == 3:\n",
    "         continue\n",
    "    i += 1"
   ]
  },
  {
   "cell_type": "code",
   "execution_count": 28,
   "id": "690cb767",
   "metadata": {},
   "outputs": [
    {
     "name": "stdout",
     "output_type": "stream",
     "text": [
      "apple\n",
      "banana\n",
      "cherry\n"
     ]
    }
   ],
   "source": [
    "# For loop \n",
    "fruits = [\"apple\", \"banana\", \"cherry\"]\n",
    "for x in fruits:\n",
    "    print(x)\n"
   ]
  },
  {
   "cell_type": "code",
   "execution_count": 29,
   "id": "b808517b",
   "metadata": {},
   "outputs": [
    {
     "name": "stdout",
     "output_type": "stream",
     "text": [
      "b\n",
      "a\n",
      "n\n",
      "a\n",
      "n\n",
      "a\n"
     ]
    }
   ],
   "source": [
    "for x in \"banana\":\n",
    "    print(x)\n"
   ]
  },
  {
   "cell_type": "code",
   "execution_count": 31,
   "id": "deb62cc5",
   "metadata": {},
   "outputs": [
    {
     "name": "stdout",
     "output_type": "stream",
     "text": [
      "0\n",
      "1\n",
      "2\n"
     ]
    }
   ],
   "source": [
    "# range()\n",
    "for i in range(3):\n",
    "\tprint(i)\n"
   ]
  },
  {
   "cell_type": "code",
   "execution_count": 32,
   "id": "24aea4c8",
   "metadata": {},
   "outputs": [
    {
     "name": "stdout",
     "output_type": "stream",
     "text": [
      "3\n",
      "4\n",
      "5\n"
     ]
    }
   ],
   "source": [
    "for i in range(3,6):\n",
    "\tprint(i)\n"
   ]
  },
  {
   "cell_type": "code",
   "execution_count": 33,
   "id": "5674c3ce",
   "metadata": {},
   "outputs": [
    {
     "name": "stdout",
     "output_type": "stream",
     "text": [
      "3\n",
      "5\n",
      "7\n",
      "9\n",
      "11\n",
      "13\n"
     ]
    }
   ],
   "source": [
    "for i in range(3,15,2):\n",
    "\tprint(i)"
   ]
  },
  {
   "cell_type": "code",
   "execution_count": 34,
   "id": "6138c0bf",
   "metadata": {},
   "outputs": [],
   "source": [
    "# nested loop is a loop inside a loop.\n"
   ]
  },
  {
   "cell_type": "code",
   "execution_count": 35,
   "id": "69405271",
   "metadata": {},
   "outputs": [
    {
     "name": "stdout",
     "output_type": "stream",
     "text": [
      "red apple\n",
      "red banana\n",
      "red cherry\n",
      "big apple\n",
      "big banana\n",
      "big cherry\n",
      "tasty apple\n",
      "tasty banana\n",
      "tasty cherry\n"
     ]
    }
   ],
   "source": [
    "adj = [\"red\", \"big\", \"tasty\"]\n",
    "fruits = [\"apple\", \"banana\", \"cherry\"]\n",
    "for x in adj:\n",
    "    for y in fruits:\n",
    "        print(x, y)\n"
   ]
  },
  {
   "attachments": {},
   "cell_type": "markdown",
   "id": "7e1f0b1f",
   "metadata": {},
   "source": [
    "## Exception Handling"
   ]
  },
  {
   "cell_type": "code",
   "execution_count": 40,
   "id": "fe78abd4",
   "metadata": {},
   "outputs": [
    {
     "name": "stdout",
     "output_type": "stream",
     "text": [
      "An exception occurred\n"
     ]
    }
   ],
   "source": [
    "try:\n",
    "    print(ahmed)      \n",
    "except:\n",
    "    print(\"An exception occurred\")"
   ]
  },
  {
   "cell_type": "code",
   "execution_count": 43,
   "id": "461c7c3d",
   "metadata": {},
   "outputs": [
    {
     "name": "stdout",
     "output_type": "stream",
     "text": [
      "Variable x is not defined\n"
     ]
    }
   ],
   "source": [
    "'''\n",
    "You can define as many exception blocks as you want, e.g. if you want to execute a special block of code for \n",
    "a special kind of error.\n",
    "Print one message if the try block raises a NameError and another for other errors:\n",
    "'''\n",
    "try:\n",
    "    print(ahmed)\n",
    "except NameError:\n",
    "    print(\"Variable x is not defined\")\n",
    "except:\n",
    "    print(\"Something else went wrong\")\n"
   ]
  },
  {
   "cell_type": "code",
   "execution_count": 45,
   "id": "e8bfbfa6",
   "metadata": {},
   "outputs": [
    {
     "name": "stdout",
     "output_type": "stream",
     "text": [
      "Something went wrong\n",
      "The 'try except' is finished\n"
     ]
    }
   ],
   "source": [
    "try:\n",
    "  \tprint(ahmed)\n",
    "except:\n",
    "  \tprint(\"Something went wrong\")\n",
    "finally:\n",
    "  \tprint(\"The 'try except' is finished\")\n"
   ]
  },
  {
   "cell_type": "code",
   "execution_count": 46,
   "id": "375cc7c1",
   "metadata": {},
   "outputs": [
    {
     "ename": "Exception",
     "evalue": "Sorry, no numbers below zero",
     "output_type": "error",
     "traceback": [
      "\u001b[1;31m---------------------------------------------------------------------------\u001b[0m",
      "\u001b[1;31mException\u001b[0m                                 Traceback (most recent call last)",
      "\u001b[1;32m<ipython-input-46-23d0eb626da9>\u001b[0m in \u001b[0;36m<module>\u001b[1;34m\u001b[0m\n\u001b[0;32m      1\u001b[0m \u001b[0mx\u001b[0m \u001b[1;33m=\u001b[0m \u001b[1;33m-\u001b[0m\u001b[1;36m1\u001b[0m\u001b[1;33m\u001b[0m\u001b[1;33m\u001b[0m\u001b[0m\n\u001b[0;32m      2\u001b[0m \u001b[1;32mif\u001b[0m \u001b[0mx\u001b[0m \u001b[1;33m<\u001b[0m \u001b[1;36m0\u001b[0m\u001b[1;33m:\u001b[0m\u001b[1;33m\u001b[0m\u001b[1;33m\u001b[0m\u001b[0m\n\u001b[1;32m----> 3\u001b[1;33m     \u001b[1;32mraise\u001b[0m \u001b[0mException\u001b[0m\u001b[1;33m(\u001b[0m\u001b[1;34m\"Sorry, no numbers below zero\"\u001b[0m\u001b[1;33m)\u001b[0m\u001b[1;33m\u001b[0m\u001b[1;33m\u001b[0m\u001b[0m\n\u001b[0m",
      "\u001b[1;31mException\u001b[0m: Sorry, no numbers below zero"
     ]
    }
   ],
   "source": [
    "#Raise an exception\n",
    "x = -1\n",
    "if x < 0:\n",
    "    raise Exception(\"Sorry, no numbers below zero\")"
   ]
  },
  {
   "cell_type": "code",
   "execution_count": 47,
   "id": "d1f035e0",
   "metadata": {},
   "outputs": [
    {
     "ename": "TypeError",
     "evalue": "Only integers are allowed",
     "output_type": "error",
     "traceback": [
      "\u001b[1;31m---------------------------------------------------------------------------\u001b[0m",
      "\u001b[1;31mTypeError\u001b[0m                                 Traceback (most recent call last)",
      "\u001b[1;32m<ipython-input-47-0e503992a0c3>\u001b[0m in \u001b[0;36m<module>\u001b[1;34m\u001b[0m\n\u001b[0;32m      1\u001b[0m \u001b[0mx\u001b[0m \u001b[1;33m=\u001b[0m \u001b[1;34m\"hello\"\u001b[0m\u001b[1;33m\u001b[0m\u001b[1;33m\u001b[0m\u001b[0m\n\u001b[0;32m      2\u001b[0m \u001b[1;32mif\u001b[0m \u001b[1;32mnot\u001b[0m \u001b[0mtype\u001b[0m\u001b[1;33m(\u001b[0m\u001b[0mx\u001b[0m\u001b[1;33m)\u001b[0m \u001b[1;32mis\u001b[0m \u001b[0mint\u001b[0m\u001b[1;33m:\u001b[0m\u001b[1;33m\u001b[0m\u001b[1;33m\u001b[0m\u001b[0m\n\u001b[1;32m----> 3\u001b[1;33m         \u001b[1;32mraise\u001b[0m \u001b[0mTypeError\u001b[0m\u001b[1;33m(\u001b[0m\u001b[1;34m\"Only integers are allowed\"\u001b[0m\u001b[1;33m)\u001b[0m\u001b[1;33m\u001b[0m\u001b[1;33m\u001b[0m\u001b[0m\n\u001b[0m",
      "\u001b[1;31mTypeError\u001b[0m: Only integers are allowed"
     ]
    }
   ],
   "source": [
    "x = \"hello\"\n",
    "if not type(x) is int:\n",
    "  \traise TypeError(\"Only integers are allowed\")"
   ]
  },
  {
   "cell_type": "markdown",
   "id": "1ee56f0b",
   "metadata": {},
   "source": [
    "## Functions "
   ]
  },
  {
   "cell_type": "code",
   "execution_count": 53,
   "id": "11041678",
   "metadata": {},
   "outputs": [],
   "source": [
    "# Creating & culling function \n",
    "def my_func():\n",
    "    print(\"this is a function\")\n"
   ]
  },
  {
   "cell_type": "code",
   "execution_count": 54,
   "id": "d50061b4",
   "metadata": {},
   "outputs": [
    {
     "name": "stdout",
     "output_type": "stream",
     "text": [
      "this is a function\n"
     ]
    }
   ],
   "source": [
    "my_func()"
   ]
  },
  {
   "cell_type": "code",
   "execution_count": 58,
   "id": "5a4d59be",
   "metadata": {},
   "outputs": [],
   "source": [
    "# Function Argument \n",
    "def func(name):\n",
    "    print(name + \" from GDSC\")\n",
    "    "
   ]
  },
  {
   "cell_type": "code",
   "execution_count": 59,
   "id": "7b4bbe0f",
   "metadata": {},
   "outputs": [
    {
     "name": "stdout",
     "output_type": "stream",
     "text": [
      "ziad from GDSC\n"
     ]
    }
   ],
   "source": [
    "func(\"ziad\")"
   ]
  },
  {
   "cell_type": "code",
   "execution_count": 60,
   "id": "3c152456",
   "metadata": {},
   "outputs": [],
   "source": [
    "def func(name, place ):\n",
    "    print(name + ' from ' + place)"
   ]
  },
  {
   "cell_type": "code",
   "execution_count": 62,
   "id": "0d3a1fcb",
   "metadata": {},
   "outputs": [
    {
     "name": "stdout",
     "output_type": "stream",
     "text": [
      "ziad from fayoum\n"
     ]
    }
   ],
   "source": [
    "func('ziad' , 'fayoum')"
   ]
  },
  {
   "cell_type": "code",
   "execution_count": 65,
   "id": "5a13eb24",
   "metadata": {},
   "outputs": [
    {
     "name": "stdout",
     "output_type": "stream",
     "text": [
      "The youngest child is Linus\n"
     ]
    }
   ],
   "source": [
    "# If you do not know how many arguments that will be passed into your function,\n",
    "#add a * before the parameter name in the function definition.\n",
    "\n",
    "def my_function(*kids):\n",
    "  \tprint(\"The youngest child is \" + kids[2])\n",
    "    \n",
    "my_function(\"Emil\", \"Tobias\", \"Linus\")\n"
   ]
  },
  {
   "cell_type": "code",
   "execution_count": 66,
   "id": "a00c86e5",
   "metadata": {},
   "outputs": [
    {
     "name": "stdout",
     "output_type": "stream",
     "text": [
      "The youngest child is Linus\n"
     ]
    }
   ],
   "source": [
    "def my_function(child3, child2, child1):\n",
    "  \tprint(\"The youngest child is \" + child3)\n",
    "my_function(child1 = \"Emil\", child2 = \"Tobias\", child3 = \"Linus\")\n"
   ]
  },
  {
   "cell_type": "code",
   "execution_count": 70,
   "id": "26c2ff6c",
   "metadata": {},
   "outputs": [
    {
     "name": "stdout",
     "output_type": "stream",
     "text": [
      "His last name is Refsnes\n"
     ]
    }
   ],
   "source": [
    "'''\n",
    "If you do not know how many keyword arguments that will \n",
    "be passed into your function, add two asterisk: ** before the parameter name in the function definition.\n",
    "\n",
    "'''\n",
    "\n",
    "def my_function(**kid):\n",
    "  \tprint(\"His last name is \" + kid[\"lname\"])\n",
    "my_function(fname = \"Tobias\", lname = \"Refsnes\")\n"
   ]
  },
  {
   "cell_type": "code",
   "execution_count": 76,
   "id": "e0f75d56",
   "metadata": {},
   "outputs": [],
   "source": [
    "# default parameter value\n",
    "def my_function(country = \"Norway\"):\n",
    "    print(\"I am from \" + country)"
   ]
  },
  {
   "cell_type": "code",
   "execution_count": 79,
   "id": "9521ce9e",
   "metadata": {},
   "outputs": [
    {
     "name": "stdout",
     "output_type": "stream",
     "text": [
      "I am from Sweden\n"
     ]
    }
   ],
   "source": [
    "my_function(\"Sweden\")\n",
    "\n"
   ]
  },
  {
   "cell_type": "code",
   "execution_count": 80,
   "id": "6cde9c0e",
   "metadata": {},
   "outputs": [
    {
     "name": "stdout",
     "output_type": "stream",
     "text": [
      "I am from Norway\n"
     ]
    }
   ],
   "source": [
    "my_function()"
   ]
  },
  {
   "cell_type": "code",
   "execution_count": 81,
   "id": "07b2a7b8",
   "metadata": {},
   "outputs": [],
   "source": [
    "def my_function(x):\n",
    "  \treturn 5 * x"
   ]
  },
  {
   "cell_type": "code",
   "execution_count": 83,
   "id": "51410e66",
   "metadata": {},
   "outputs": [
    {
     "data": {
      "text/plain": [
       "15"
      ]
     },
     "execution_count": 83,
     "metadata": {},
     "output_type": "execute_result"
    }
   ],
   "source": [
    "x= my_function(3)\n",
    "x"
   ]
  },
  {
   "cell_type": "code",
   "execution_count": 84,
   "id": "9eb13e00",
   "metadata": {},
   "outputs": [],
   "source": [
    "def myfunction():\n",
    " \t pass\n"
   ]
  },
  {
   "cell_type": "code",
   "execution_count": 85,
   "id": "1ca80ceb",
   "metadata": {},
   "outputs": [
    {
     "name": "stdout",
     "output_type": "stream",
     "text": [
      "name :ziad\n"
     ]
    },
    {
     "data": {
      "text/plain": [
       "'ziad'"
      ]
     },
     "execution_count": 85,
     "metadata": {},
     "output_type": "execute_result"
    }
   ],
   "source": [
    "# input function\n",
    "x  = input(\"name :\")\n",
    "x"
   ]
  },
  {
   "cell_type": "code",
   "execution_count": 87,
   "id": "514ec445",
   "metadata": {},
   "outputs": [
    {
     "name": "stdout",
     "output_type": "stream",
     "text": [
      "num :12\n"
     ]
    },
    {
     "data": {
      "text/plain": [
       "12"
      ]
     },
     "execution_count": 87,
     "metadata": {},
     "output_type": "execute_result"
    }
   ],
   "source": [
    "x  = input(\"num :\")\n",
    "x = int(x)\n",
    "x"
   ]
  },
  {
   "attachments": {
    "image.png": {
     "image/png": "[encoded data removed]"
    }
   },
   "cell_type": "markdown",
   "id": "c19630a2",
   "metadata": {},
   "source": [
    "### Task : \n",
    "#### 1 - write a python function , take (name , width , height, list of lunch food )\n",
    "#### 2- ist of lunch food is optional [' chicken' , 'rice, 'salad']\n",
    "#### 3- calculate BMI , bmi = weight / height^2 \n",
    "#### 4- out bmi state : \n",
    "![image.png](attachment:image.png)\n",
    "#### 5- out lunch stat , compare between optional & input , and print the optional finally \n",
    "\n",
    "#### Ex : \n",
    "### in >> (\"Ziad\", \"65\", \"1.75\".['meel' , 'rice , 'pepsi']\n",
    "### out >> hello ziad your bmi = 20 & you are normal , the pest lunch is  [' chicken' , 'rice, 'salad'] not meel and pepsi , thank you "
   ]
  },
  {
   "cell_type": "code",
   "execution_count": null,
   "id": "e111421e",
   "metadata": {},
   "outputs": [],
   "source": []
  }
 ],
 "metadata": {
  "kernelspec": {
   "display_name": "Python 3",
   "language": "python",
   "name": "python3"
  },
  "language_info": {
   "codemirror_mode": {
    "name": "ipython",
    "version": 3
   },
   "file_extension": ".py",
   "mimetype": "text/x-python",
   "name": "python",
   "nbconvert_exporter": "python",
   "pygments_lexer": "ipython3",
   "version": "3.8.8"
  }
 },
 "nbformat": 4,
 "nbformat_minor": 5
}
