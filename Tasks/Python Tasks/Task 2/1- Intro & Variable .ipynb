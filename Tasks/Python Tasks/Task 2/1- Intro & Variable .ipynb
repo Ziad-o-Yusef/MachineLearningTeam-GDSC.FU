{
 "cells": [
  {
   "cell_type": "markdown",
   "id": "4ac398fa",
   "metadata": {},
   "source": [
    "### What is Python?"
   ]
  },
  {
   "cell_type": "markdown",
   "id": "22afb69e",
   "metadata": {},
   "source": [
    "### Why Python?"
   ]
  },
  {
   "cell_type": "markdown",
   "id": "bf84e064",
   "metadata": {},
   "source": [
    "### Variables "
   ]
  },
  {
   "cell_type": "code",
   "execution_count": 4,
   "id": "0b376c7b",
   "metadata": {},
   "outputs": [],
   "source": [
    "a = 1 # Assign 1 to variable a\n",
    "b = 2\n",
    "c = 3"
   ]
  },
  {
   "cell_type": "code",
   "execution_count": 5,
   "id": "f30f65fa",
   "metadata": {},
   "outputs": [
    {
     "name": "stdout",
     "output_type": "stream",
     "text": [
      "2\n"
     ]
    }
   ],
   "source": [
    "print(b)"
   ]
  },
  {
   "cell_type": "code",
   "execution_count": 6,
   "id": "5ab35408",
   "metadata": {},
   "outputs": [
    {
     "name": "stdout",
     "output_type": "stream",
     "text": [
      "3\n"
     ]
    }
   ],
   "source": [
    "print(c)"
   ]
  },
  {
   "cell_type": "code",
   "execution_count": 7,
   "id": "d358bf3e",
   "metadata": {},
   "outputs": [],
   "source": [
    "d = a + b + c"
   ]
  },
  {
   "cell_type": "code",
   "execution_count": 8,
   "id": "a093c611",
   "metadata": {},
   "outputs": [
    {
     "name": "stdout",
     "output_type": "stream",
     "text": [
      "6\n"
     ]
    }
   ],
   "source": [
    "print(d)"
   ]
  },
  {
   "cell_type": "code",
   "execution_count": 9,
   "id": "2dda5dfe",
   "metadata": {},
   "outputs": [],
   "source": [
    "summ = a + b + c"
   ]
  },
  {
   "cell_type": "code",
   "execution_count": 10,
   "id": "4b1cbc49",
   "metadata": {},
   "outputs": [
    {
     "name": "stdout",
     "output_type": "stream",
     "text": [
      "6\n"
     ]
    }
   ],
   "source": [
    "print(summ)"
   ]
  },
  {
   "cell_type": "markdown",
   "id": "235113e3",
   "metadata": {},
   "source": [
    "#### Variable namimg rules\n",
    "1. Varialbe can only contain letters, numbers, _\n",
    "2. Varable can't start with number\n",
    "3. Varable can't contain special character"
   ]
  },
  {
   "cell_type": "code",
   "execution_count": 11,
   "id": "18fcb16b",
   "metadata": {},
   "outputs": [],
   "source": [
    "aB1 = 12"
   ]
  },
  {
   "cell_type": "code",
   "execution_count": 12,
   "id": "a2d837a4",
   "metadata": {},
   "outputs": [],
   "source": [
    "b_2 = 13"
   ]
  },
  {
   "cell_type": "code",
   "execution_count": 13,
   "id": "31326680",
   "metadata": {},
   "outputs": [
    {
     "ename": "SyntaxError",
     "evalue": "invalid syntax (<ipython-input-13-bfc91808dd41>, line 1)",
     "output_type": "error",
     "traceback": [
      "\u001b[1;36m  File \u001b[1;32m\"<ipython-input-13-bfc91808dd41>\"\u001b[1;36m, line \u001b[1;32m1\u001b[0m\n\u001b[1;33m    1x = 13\u001b[0m\n\u001b[1;37m     ^\u001b[0m\n\u001b[1;31mSyntaxError\u001b[0m\u001b[1;31m:\u001b[0m invalid syntax\n"
     ]
    }
   ],
   "source": [
    "1x = 13"
   ]
  },
  {
   "cell_type": "code",
   "execution_count": 14,
   "id": "25262768",
   "metadata": {},
   "outputs": [
    {
     "ename": "SyntaxError",
     "evalue": "cannot assign to operator (<ipython-input-14-e1f5ff3faa4a>, line 1)",
     "output_type": "error",
     "traceback": [
      "\u001b[1;36m  File \u001b[1;32m\"<ipython-input-14-e1f5ff3faa4a>\"\u001b[1;36m, line \u001b[1;32m1\u001b[0m\n\u001b[1;33m    b@8 = 15\u001b[0m\n\u001b[1;37m    ^\u001b[0m\n\u001b[1;31mSyntaxError\u001b[0m\u001b[1;31m:\u001b[0m cannot assign to operator\n"
     ]
    }
   ],
   "source": [
    "b@8 = 15"
   ]
  },
  {
   "cell_type": "code",
   "execution_count": 15,
   "id": "be14543a",
   "metadata": {},
   "outputs": [],
   "source": [
    "_m  = 16 # Not Prefered"
   ]
  },
  {
   "cell_type": "code",
   "execution_count": 16,
   "id": "8e939db3",
   "metadata": {},
   "outputs": [],
   "source": [
    "a = 6"
   ]
  },
  {
   "cell_type": "code",
   "execution_count": 17,
   "id": "f2fb5dd9",
   "metadata": {},
   "outputs": [
    {
     "name": "stdout",
     "output_type": "stream",
     "text": [
      "6\n"
     ]
    }
   ],
   "source": [
    "print(a)"
   ]
  },
  {
   "cell_type": "code",
   "execution_count": 18,
   "id": "26d036ef",
   "metadata": {},
   "outputs": [],
   "source": [
    "a = 14"
   ]
  },
  {
   "cell_type": "code",
   "execution_count": 19,
   "id": "9caf0e1c",
   "metadata": {},
   "outputs": [
    {
     "name": "stdout",
     "output_type": "stream",
     "text": [
      "14\n"
     ]
    }
   ],
   "source": [
    "print(a)"
   ]
  },
  {
   "cell_type": "code",
   "execution_count": 20,
   "id": "6821a79a",
   "metadata": {},
   "outputs": [],
   "source": [
    "# sneaky\n",
    "first_name = \"Ali\""
   ]
  },
  {
   "cell_type": "code",
   "execution_count": null,
   "id": "71a2034c",
   "metadata": {},
   "outputs": [],
   "source": []
  },
  {
   "cell_type": "markdown",
   "id": "246904f0",
   "metadata": {},
   "source": [
    "### Some Useful Functions"
   ]
  },
  {
   "cell_type": "code",
   "execution_count": 1,
   "id": "f73d0fca",
   "metadata": {},
   "outputs": [
    {
     "name": "stdout",
     "output_type": "stream",
     "text": [
      "123\n"
     ]
    }
   ],
   "source": [
    "print(123)"
   ]
  },
  {
   "cell_type": "code",
   "execution_count": 2,
   "id": "569982c8",
   "metadata": {},
   "outputs": [
    {
     "name": "stdout",
     "output_type": "stream",
     "text": [
      "Ahmed\n"
     ]
    }
   ],
   "source": [
    "print(\"Ahmed\")"
   ]
  },
  {
   "cell_type": "code",
   "execution_count": null,
   "id": "de40d75b",
   "metadata": {},
   "outputs": [],
   "source": [
    "type(object)  # takes object and return its type"
   ]
  },
  {
   "cell_type": "code",
   "execution_count": null,
   "id": "c896b9b5",
   "metadata": {},
   "outputs": [],
   "source": []
  },
  {
   "cell_type": "code",
   "execution_count": null,
   "id": "dd2c7ae4",
   "metadata": {},
   "outputs": [],
   "source": []
  },
  {
   "cell_type": "markdown",
   "id": "f5148fd2",
   "metadata": {},
   "source": [
    "## Comments"
   ]
  },
  {
   "cell_type": "code",
   "execution_count": 22,
   "id": "e0631d58",
   "metadata": {},
   "outputs": [
    {
     "ename": "NameError",
     "evalue": "name 'last_name' is not defined",
     "output_type": "error",
     "traceback": [
      "\u001b[1;31m---------------------------------------------------------------------------\u001b[0m",
      "\u001b[1;31mNameError\u001b[0m                                 Traceback (most recent call last)",
      "\u001b[1;32m<ipython-input-22-e1aeda7b4fde>\u001b[0m in \u001b[0;36m<module>\u001b[1;34m\u001b[0m\n\u001b[1;32m----> 1\u001b[1;33m \u001b[0mlast_name\u001b[0m\u001b[1;33m\u001b[0m\u001b[1;33m\u001b[0m\u001b[0m\n\u001b[0m",
      "\u001b[1;31mNameError\u001b[0m: name 'last_name' is not defined"
     ]
    }
   ],
   "source": [
    "last_name"
   ]
  },
  {
   "cell_type": "code",
   "execution_count": 23,
   "id": "a751d57e",
   "metadata": {},
   "outputs": [],
   "source": [
    "# last_name"
   ]
  },
  {
   "cell_type": "code",
   "execution_count": 24,
   "id": "9c79c8d5",
   "metadata": {},
   "outputs": [],
   "source": [
    "x = 13 # assign 13 to x"
   ]
  },
  {
   "cell_type": "code",
   "execution_count": 25,
   "id": "81863d1f",
   "metadata": {},
   "outputs": [
    {
     "name": "stdout",
     "output_type": "stream",
     "text": [
      "13\n"
     ]
    }
   ],
   "source": [
    "print(x)"
   ]
  },
  {
   "cell_type": "code",
   "execution_count": null,
   "id": "e12bc116",
   "metadata": {},
   "outputs": [],
   "source": []
  },
  {
   "cell_type": "code",
   "execution_count": 27,
   "id": "9056ef2a",
   "metadata": {},
   "outputs": [],
   "source": [
    "first_name = \"Ali\"\n",
    "firstName = \"Ali\"\n",
    "FirstName = \"Ali\""
   ]
  },
  {
   "cell_type": "code",
   "execution_count": 28,
   "id": "54ae74cf",
   "metadata": {},
   "outputs": [
    {
     "name": "stdout",
     "output_type": "stream",
     "text": [
      "Ali\n"
     ]
    }
   ],
   "source": [
    "print(first_name)"
   ]
  },
  {
   "cell_type": "code",
   "execution_count": 29,
   "id": "c3d3a839",
   "metadata": {},
   "outputs": [
    {
     "name": "stdout",
     "output_type": "stream",
     "text": [
      "Ali\n"
     ]
    }
   ],
   "source": [
    "print(firstName)"
   ]
  },
  {
   "cell_type": "code",
   "execution_count": 30,
   "id": "d83ae51e",
   "metadata": {},
   "outputs": [
    {
     "name": "stdout",
     "output_type": "stream",
     "text": [
      "Ali\n"
     ]
    }
   ],
   "source": [
    "print(FirstName)"
   ]
  },
  {
   "cell_type": "code",
   "execution_count": 31,
   "id": "a0ff26c5",
   "metadata": {},
   "outputs": [],
   "source": [
    "## Python is Case Sensitive "
   ]
  },
  {
   "cell_type": "code",
   "execution_count": 32,
   "id": "90b31b16",
   "metadata": {},
   "outputs": [],
   "source": [
    "family = \"AZ\""
   ]
  },
  {
   "cell_type": "code",
   "execution_count": 33,
   "id": "2cfc67c2",
   "metadata": {},
   "outputs": [
    {
     "name": "stdout",
     "output_type": "stream",
     "text": [
      "AZ\n"
     ]
    }
   ],
   "source": [
    "print(family)"
   ]
  },
  {
   "cell_type": "code",
   "execution_count": 34,
   "id": "db80657f",
   "metadata": {},
   "outputs": [
    {
     "ename": "NameError",
     "evalue": "name 'Family' is not defined",
     "output_type": "error",
     "traceback": [
      "\u001b[1;31m---------------------------------------------------------------------------\u001b[0m",
      "\u001b[1;31mNameError\u001b[0m                                 Traceback (most recent call last)",
      "\u001b[1;32m<ipython-input-34-539d3fc9463a>\u001b[0m in \u001b[0;36m<module>\u001b[1;34m\u001b[0m\n\u001b[1;32m----> 1\u001b[1;33m \u001b[0mprint\u001b[0m\u001b[1;33m(\u001b[0m\u001b[0mFamily\u001b[0m\u001b[1;33m)\u001b[0m\u001b[1;33m\u001b[0m\u001b[1;33m\u001b[0m\u001b[0m\n\u001b[0m",
      "\u001b[1;31mNameError\u001b[0m: name 'Family' is not defined"
     ]
    }
   ],
   "source": [
    "print(Family)"
   ]
  },
  {
   "cell_type": "code",
   "execution_count": 35,
   "id": "a810bf93",
   "metadata": {},
   "outputs": [
    {
     "data": {
      "text/plain": [
       "11"
      ]
     },
     "execution_count": 35,
     "metadata": {},
     "output_type": "execute_result"
    }
   ],
   "source": [
    "4+7"
   ]
  },
  {
   "cell_type": "code",
   "execution_count": 36,
   "id": "50036319",
   "metadata": {},
   "outputs": [
    {
     "data": {
      "text/plain": [
       "16"
      ]
     },
     "execution_count": 36,
     "metadata": {},
     "output_type": "execute_result"
    }
   ],
   "source": [
    "4 * 4"
   ]
  },
  {
   "cell_type": "code",
   "execution_count": null,
   "id": "bd9a11e0",
   "metadata": {},
   "outputs": [],
   "source": []
  }
 ],
 "metadata": {
  "kernelspec": {
   "display_name": "Python 3",
   "language": "python",
   "name": "python3"
  },
  "language_info": {
   "codemirror_mode": {
    "name": "ipython",
    "version": 3
   },
   "file_extension": ".py",
   "mimetype": "text/x-python",
   "name": "python",
   "nbconvert_exporter": "python",
   "pygments_lexer": "ipython3",
   "version": "3.8.8"
  }
 },
 "nbformat": 4,
 "nbformat_minor": 5
}
