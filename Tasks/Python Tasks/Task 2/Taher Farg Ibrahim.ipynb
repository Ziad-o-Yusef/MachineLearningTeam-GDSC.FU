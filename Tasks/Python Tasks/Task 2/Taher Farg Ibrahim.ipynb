{
 "cells": [
  {
   "cell_type": "code",
   "execution_count": 1,
   "metadata": {},
   "outputs": [
    {
     "name": "stdout",
     "output_type": "stream",
     "text": [
      "Enter your mark: 40\n",
      "Your grade is: E\n"
     ]
    }
   ],
   "source": [
    "#Section1 \n",
    "\n",
    "\n",
    "mark = float(input(\"Enter your mark: \"))\n",
    "if mark < 25:\n",
    "    grade = \"F\"\n",
    "elif mark <45:\n",
    "    grade = \"E\"\n",
    "elif mark < 50:\n",
    "    grade = \"D\"\n",
    "elif mark < 60:\n",
    "    grade = \"C\"\n",
    "elif mark < 80:\n",
    "    grade = \"B\"\n",
    "else:\n",
    "    grade = \"A\"\n",
    "print(\"Your grade is:\", grade)\n",
    "\n"
   ]
  },
  {
   "cell_type": "code",
   "execution_count": 2,
   "metadata": {},
   "outputs": [
    {
     "name": "stdout",
     "output_type": "stream",
     "text": [
      "Enter your age: 25\n",
      "Enter your sex (M/F): m\n",
      "Enter your marital status (Y/N): y\n",
      "Place of service: Anywhere\n"
     ]
    }
   ],
   "source": [
    "\n",
    "age = int(input(\"Enter your age: \"))\n",
    "sex = input(\"Enter your sex (M/F): \").upper()\n",
    "marital_status = input(\"Enter your marital status (Y/N): \").upper()\n",
    "\n",
    "if sex == \"F\":\n",
    "    place_of_service = \"Urban areas\"\n",
    "elif sex == \"M\" and 20 <= age <= 40:\n",
    "    place_of_service = \"Anywhere\"\n",
    "elif sex == \"M\" and 40 <= age <= 60:\n",
    "    place_of_service = \"Urban areas\"\n",
    "else:\n",
    "    place_of_service = \"ERROR\"\n",
    "\n",
    "print(\"Place of service:\", place_of_service)\n",
    "\n"
   ]
  },
  {
   "cell_type": "code",
   "execution_count": 3,
   "metadata": {},
   "outputs": [
    {
     "name": "stdout",
     "output_type": "stream",
     "text": [
      "Enter the start of the range: 1\n",
      "Enter the end of the range: 150\n",
      "2\n",
      "3\n",
      "5\n",
      "7\n",
      "11\n",
      "13\n",
      "17\n",
      "19\n",
      "23\n",
      "29\n",
      "31\n",
      "37\n",
      "41\n",
      "43\n",
      "47\n",
      "53\n",
      "59\n",
      "61\n",
      "67\n",
      "71\n",
      "73\n",
      "79\n",
      "83\n",
      "89\n",
      "97\n",
      "101\n",
      "103\n",
      "107\n",
      "109\n",
      "113\n",
      "127\n",
      "131\n",
      "137\n",
      "139\n",
      "149\n"
     ]
    }
   ],
   "source": [
    "#Section 2\n",
    " \n",
    " #Number1\n",
    "def is_prime(num):\n",
    "  if num == 0 or num == 1:\n",
    "    return False\n",
    "  for i in range(2, num):\n",
    "    if num % i == 0:\n",
    "      return False\n",
    "  return True\n",
    "  \n",
    "start = int(input(\"Enter the start of the range: \"))\n",
    "end = int(input(\"Enter the end of the range: \"))\n",
    "for num in range(start, end+1):\n",
    "  if is_prime(num):\n",
    "    print(num)\n"
   ]
  },
  {
   "cell_type": "code",
   "execution_count": null,
   "metadata": {},
   "outputs": [],
   "source": [
    "#Number2\n"
   ]
  },
  {
   "cell_type": "code",
   "execution_count": 4,
   "metadata": {},
   "outputs": [
    {
     "name": "stdout",
     "output_type": "stream",
     "text": [
      "Enter the IP address: 192 168 255 252\n",
      "192.168.255.253\n",
      "192.168.255.254\n",
      "192.168.255.255\n",
      "192.169.0.0\n",
      "192.169.0.1\n"
     ]
    }
   ],
   "source": [
    "#Number3\n",
    "ip_str = input(\"Enter the IP address: \")\n",
    "octets = [int(x) for x in ip_str.split()]\n",
    "\n",
    "for i in range(5):\n",
    "  octets[3] += 1\n",
    "  if octets[3] > 255:\n",
    "    octets[3] = 0\n",
    "    octets[2] += 1\n",
    "  if octets[2] > 255:\n",
    "    octets[2] = 0\n",
    "    octets[1] += 1\n",
    "  if octets[1] > 255:\n",
    "    octets[1] = 0\n",
    "    octets[0] += 1\n",
    "  print(\".\".join(str(x) for x in octets))\n",
    "\n"
   ]
  },
  {
   "cell_type": "code",
   "execution_count": 5,
   "metadata": {},
   "outputs": [
    {
     "name": "stdout",
     "output_type": "stream",
     "text": [
      "Enter numbers to be summed, separated by spaces: 1 2 2 5 5 5 8 4 5 4 5 4 5 4 5 4 5 54 4 94 94 9 49 49 5\n",
      "431\n"
     ]
    }
   ],
   "source": [
    "#Section 3\n",
    "#Number1\n",
    "def sum_numbers(*numbers):\n",
    "  return sum(numbers)\n",
    "  \n",
    "numbers = input(\"Enter numbers to be summed, separated by spaces: \")\n",
    "numbers = [int(x) for x in numbers.split()]\n",
    "result = sum_numbers(*numbers)\n",
    "print(result)"
   ]
  },
  {
   "cell_type": "code",
   "execution_count": 6,
   "metadata": {},
   "outputs": [
    {
     "name": "stdout",
     "output_type": "stream",
     "text": [
      "Employee Name: taher\n",
      "Employee Salary: 9000\n"
     ]
    }
   ],
   "source": [
    "#Number2\n",
    "def showEmployee(name, salary=9000):\n",
    "  print(\"Employee Name:\", name)\n",
    "  print(\"Employee Salary:\", salary)\n",
    "  \n",
    "showEmployee(\"taher\" ,)"
   ]
  },
  {
   "cell_type": "code",
   "execution_count": 7,
   "metadata": {},
   "outputs": [
    {
     "name": "stdout",
     "output_type": "stream",
     "text": [
      "Name: taher\n",
      "Age: 21\n",
      "Name: mohamed\n",
      "Age: 25\n"
     ]
    }
   ],
   "source": [
    "#Number3\n",
    "def person(name, age):\n",
    "  print(f\"Name: {name}\")\n",
    "  print(f\"Age: {age}\")\n",
    "\n",
    "\n",
    "person(\"taher\", 21)  \n",
    "person(\"mohamed\", 25)\n",
    "\n"
   ]
  },
  {
   "cell_type": "code",
   "execution_count": null,
   "metadata": {},
   "outputs": [],
   "source": []
  }
 ],
 "metadata": {
  "kernelspec": {
   "display_name": "Python 3 (ipykernel)",
   "language": "python",
   "name": "python3"
  },
  "language_info": {
   "codemirror_mode": {
    "name": "ipython",
    "version": 3
   },
   "file_extension": ".py",
   "mimetype": "text/x-python",
   "name": "python",
   "nbconvert_exporter": "python",
   "pygments_lexer": "ipython3",
   "version": "3.9.12"
  },
  "vscode": {
   "interpreter": {
    "hash": "3567b87f0645b5395235838a91e26ff4aa7776c34bec3645fc32ac60b8c8f058"
   }
  }
 },
 "nbformat": 4,
 "nbformat_minor": 2
}
