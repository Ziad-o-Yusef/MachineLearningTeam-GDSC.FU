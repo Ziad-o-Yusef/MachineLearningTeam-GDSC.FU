{
 "cells": [
  {
   "cell_type": "markdown",
   "id": "2dfd5fa4",
   "metadata": {},
   "source": [
    "# section one"
   ]
  },
  {
   "cell_type": "code",
   "execution_count": null,
   "id": "46463d2d",
   "metadata": {},
   "outputs": [],
   "source": [
    "age=int(input('ht is the  age'))\n",
    "gender=input('what is the genter if gender mail enter M anther enter F:')\n",
    "status=input('whate is the matial status:')\n",
    "if gender[0]=='f' or gender[0]=='F':\n",
    "   print ('you are worck in urban areas only.')\n",
    "elif gender[0]=='M' or gender[0]=='m' :\n",
    "   if age>=20 and age < 40:\n",
    "      print ('you are work anywhere')\n",
    "   elif  age>=40 and age<60:\n",
    "       print ('you are worck in urban areas only.')\n",
    "   else :\n",
    "      print('ERROR')\n",
    "else:\n",
    "   print (\"ERROR\")\n",
    "    "
   ]
  },
  {
   "cell_type": "markdown",
   "id": "ee1fd4e4",
   "metadata": {},
   "source": [
    "#section 2"
   ]
  },
  {
   "cell_type": "code",
   "execution_count": null,
   "id": "b0abec49",
   "metadata": {},
   "outputs": [],
   "source": [
    "import math\n",
    "\n",
    "numper=int(input(\"what is the range Number : \"))\n",
    "for i in range(numper):\n",
    "    count=True\n",
    "    for  l in range(2,i):\n",
    "       if (i % l)==0:\n",
    "         count=False\n",
    "         break\n",
    "    if count:\n",
    "        print(i)"
   ]
  },
  {
   "cell_type": "code",
   "execution_count": null,
   "id": "88898616",
   "metadata": {},
   "outputs": [],
   "source": [
    "def schoolgrate(grate):\n",
    "    if grate < 25:\n",
    "       print('f')\n",
    "    elif grate >= 25 and grate < 45:\n",
    "       print('E')\n",
    "    elif grate >= 45 and grate < 50:\n",
    "       print('D')\n",
    "    elif grate >= 50 and grate < 60:\n",
    "       print ('C')\n",
    "    elif grate >= 60 and grate < 80:\n",
    "       print('B')\n",
    "    elif grate >= 80 :\n",
    "       print ('A')\n",
    "\n",
    "grate=int(input('enter the grading that you went the corresponding the grate : '))\n",
    "schoolgrate (grate)"
   ]
  },
  {
   "cell_type": "code",
   "execution_count": null,
   "id": "e3f3ab29",
   "metadata": {},
   "outputs": [],
   "source": [
    "a,b,c=0,0,0\n",
    "while a<= 9:\n",
    "    b=0\n",
    "    while b<= 9:\n",
    "        c=0\n",
    "        while c<= 9:\n",
    "            print (a,b,c)\n",
    "            c+=1\n",
    "        b+=1\n",
    "    a+=1   "
   ]
  },
  {
   "cell_type": "code",
   "execution_count": 8,
   "id": "4ea0aed5",
   "metadata": {},
   "outputs": [
    {
     "name": "stdout",
     "output_type": "stream",
     "text": [
      "what is the ip : 252 255 168 169\n",
      "253 255 168 169\n",
      "254 255 168 169\n",
      "255 255 168 169\n",
      "0 0 169 169\n",
      "1 0 169 169\n"
     ]
    }
   ],
   "source": [
    "ip=input('what is the ip : ')\n",
    "# l1=int(ip[-4:])\n",
    "ip1=int(ip[0:3])\n",
    "ip2=int(ip[4:7])\n",
    "ip3=int(ip[8:11])\n",
    "ip4=int(ip[12:15])\n",
    "for i in range(5):\n",
    "    if ip1<255 :\n",
    "      ip1+=1\n",
    "    elif ip2<255 :\n",
    "      ip2+=1\n",
    "      ip1=0\n",
    "    elif ip3<255 :\n",
    "      ip1=0\n",
    "      ip2=0\n",
    "      ip3+=1\n",
    "    elif ip4<255 :\n",
    "      ip1=0\n",
    "      ip2=0\n",
    "      ip3+=1\n",
    "      ip4+=1 \n",
    "    print(f'{ip1} {ip2} {ip3} {ip4}')"
   ]
  },
  {
   "cell_type": "markdown",
   "id": "fb7d486f",
   "metadata": {},
   "source": [
    "#section 3:"
   ]
  },
  {
   "cell_type": "code",
   "execution_count": null,
   "id": "ac2d6ea0",
   "metadata": {},
   "outputs": [],
   "source": [
    "\n",
    "def numbers(num):\n",
    "  sum=num\n",
    "  while True:\n",
    "       sum+=num\n",
    "       num=int(input('what is the number pleas :'))\n",
    "       tr=input('if you went Exite programe enter true')\n",
    "       if tr[0]=='t' or tr[0]=='T':\n",
    "            print(sum )\n",
    "            break\n",
    "    \n",
    "    \n",
    "num=int(input('what is the number pleas :'))\n",
    "numbers(num)\n",
    "\n",
    "    "
   ]
  },
  {
   "cell_type": "code",
   "execution_count": null,
   "id": "978f606c",
   "metadata": {},
   "outputs": [],
   "source": [
    "def ShowEmployee(name,salary=9000):\n",
    "    print(f'the employee name is : {name} ,and, the salary is : {salary}')\n",
    "name=input('what is the name of Employee : ')\n",
    "salary=int(input(f'what is the Salary of {name} : '))\n",
    "ShowEmployee(name,salary)"
   ]
  },
  {
   "cell_type": "code",
   "execution_count": null,
   "id": "b3a24f05",
   "metadata": {},
   "outputs": [],
   "source": [
    "def ff(name ,age:int):\n",
    "    print (f'name is : {name}, and the age is : {age}')\n",
    "name=input('what is your name : ')\n",
    "age=int(input(\"what is the age : \"))\n",
    "ff(name , age)"
   ]
  }
 ],
 "metadata": {
  "kernelspec": {
   "display_name": "Python 3 (ipykernel)",
   "language": "python",
   "name": "python3"
  },
  "language_info": {
   "codemirror_mode": {
    "name": "ipython",
    "version": 3
   },
   "file_extension": ".py",
   "mimetype": "text/x-python",
   "name": "python",
   "nbconvert_exporter": "python",
   "pygments_lexer": "ipython3",
   "version": "3.9.13"
  }
 },
 "nbformat": 4,
 "nbformat_minor": 5
}
