{
 "cells": [
  {
   "cell_type": "markdown",
   "id": "5fff75ce",
   "metadata": {},
   "source": [
    "# Section 1"
   ]
  },
  {
   "cell_type": "code",
   "execution_count": 1,
   "id": "71a1f1ab",
   "metadata": {},
   "outputs": [
    {
     "name": "stdout",
     "output_type": "stream",
     "text": [
      "5\n"
     ]
    }
   ],
   "source": [
    "# 1.1\n",
    "x=5\n",
    "print(x)"
   ]
  },
  {
   "cell_type": "code",
   "execution_count": 2,
   "id": "a5b7b2c4",
   "metadata": {},
   "outputs": [
    {
     "name": "stdout",
     "output_type": "stream",
     "text": [
      "My name is Aml\n"
     ]
    }
   ],
   "source": [
    "# 1.2\n",
    "x='My name is Aml'\n",
    "print(x)"
   ]
  },
  {
   "cell_type": "code",
   "execution_count": 4,
   "id": "14232e7b",
   "metadata": {},
   "outputs": [
    {
     "name": "stdout",
     "output_type": "stream",
     "text": [
      "True\n"
     ]
    }
   ],
   "source": [
    "# 1.3\n",
    "x=True\n",
    "print(x)"
   ]
  },
  {
   "cell_type": "code",
   "execution_count": 6,
   "id": "0ff0e957",
   "metadata": {},
   "outputs": [
    {
     "name": "stdout",
     "output_type": "stream",
     "text": [
      "<class 'int'>\n"
     ]
    }
   ],
   "source": [
    "# 1.4\n",
    "answer_1=15\n",
    "print( type(answer_1) )"
   ]
  },
  {
   "cell_type": "code",
   "execution_count": 7,
   "id": "837d2298",
   "metadata": {},
   "outputs": [
    {
     "name": "stdout",
     "output_type": "stream",
     "text": [
      "<class 'str'>\n"
     ]
    }
   ],
   "source": [
    "# 1.5\n",
    "answer_2=\"Hallo\"\n",
    "print( type(answer_2) )"
   ]
  },
  {
   "cell_type": "code",
   "execution_count": 8,
   "id": "39c70e59",
   "metadata": {},
   "outputs": [
    {
     "name": "stdout",
     "output_type": "stream",
     "text": [
      "12.3 <class 'float'> welcome <class 'str'> [1, 2, 3] <class 'list'> {1, 2, 3} <class 'set'> 123 <class 'str'>\n"
     ]
    }
   ],
   "source": [
    "# 1.6           12.3 , “Welcome” , [1,2,3] , {1,2,3} , “123”\n",
    "x=12.3\n",
    "A=\"welcome\"\n",
    "b=[1,2,3]\n",
    "c={1,2,3}\n",
    "d=\"123\"\n",
    "print(x,type(x),A,type(A),b,type(b),c,type(c),d,type(d))\n"
   ]
  },
  {
   "cell_type": "markdown",
   "id": "6710579c",
   "metadata": {},
   "source": [
    "# Section2\n"
   ]
  },
  {
   "cell_type": "code",
   "execution_count": 19,
   "id": "ed28bd43",
   "metadata": {},
   "outputs": [
    {
     "name": "stdout",
     "output_type": "stream",
     "text": [
      "AuKellylt\n"
     ]
    }
   ],
   "source": [
    "# 2.1\n",
    "s1 = \"Ault\"\n",
    "s2 = \"Kelly\"\n",
    "x=s1[:2] + s2 + s1[2:]\n",
    "print(x)"
   ]
  },
  {
   "cell_type": "code",
   "execution_count": 23,
   "id": "fc63694c",
   "metadata": {},
   "outputs": [
    {
     "name": "stdout",
     "output_type": "stream",
     "text": [
      "Enter a sentence:I study Cs.\n",
      "Cs. study I\n"
     ]
    }
   ],
   "source": [
    "# 2.2\n",
    "normal_sen=input(\"Enter a sentence:\")\n",
    "split_sen=normal_sen.split()\n",
    "split_sen=list(reversed(split_sen))\n",
    "reversed_sen=\" \".join(split_sen)\n",
    "print(reversed_sen)"
   ]
  },
  {
   "cell_type": "code",
   "execution_count": 28,
   "id": "b71c6025",
   "metadata": {},
   "outputs": [
    {
     "name": "stdout",
     "output_type": "stream",
     "text": [
      "H\n",
      "llo\n",
      "HELLO WORLD\n",
      "hello world\n"
     ]
    }
   ],
   "source": [
    "# 2.3\n",
    "txt=\"Hello World\"\n",
    "print(txt[0])\n",
    "print(txt[2:5])\n",
    "print(txt.upper())\n",
    "print(txt.lower())"
   ]
  },
  {
   "cell_type": "markdown",
   "id": "0207cf38",
   "metadata": {},
   "source": [
    "# Section3"
   ]
  },
  {
   "cell_type": "code",
   "execution_count": 34,
   "id": "d4bdcd9d",
   "metadata": {},
   "outputs": [
    {
     "name": "stdout",
     "output_type": "stream",
     "text": [
      "Using reverse()  [500, 400, 300, 200, 100]\n",
      "Using reversed()  [100, 200, 300, 400, 500]\n"
     ]
    }
   ],
   "source": [
    "# 3.1\n",
    "list1 = [100, 200, 300, 400, 500]\n",
    "list1.reverse()\n",
    "print(\"Using reverse() \", list1)\n",
    "print(\"Using reversed() \", list(reversed(list1)))"
   ]
  },
  {
   "cell_type": "code",
   "execution_count": 49,
   "id": "645c882f",
   "metadata": {},
   "outputs": [
    {
     "name": "stdout",
     "output_type": "stream",
     "text": [
      "banana\n",
      "['kiwi', 'lemon', 'banana', 'cherry']\n",
      "['orange', 'kiwi', 'melon']\n"
     ]
    },
    {
     "data": {
      "text/plain": [
       "['a', 'b', ['c', ['d', 'e', ['f', 'g', 'h', 'i', 'j'], 'k'], 'l'], 'm', 'n']"
      ]
     },
     "execution_count": 49,
     "metadata": {},
     "output_type": "execute_result"
    }
   ],
   "source": [
    "# 3.2\n",
    "fruits = [\"apple\", \"banana\", \"cherry\"]\n",
    "print(fruits[1])\n",
    "# 3.3\n",
    "fruits[0]=\"kiwi\"\n",
    "fruits\n",
    "# 3.4\n",
    "fruits.insert(1,\"lemon\")\n",
    "print(fruits)\n",
    "# 3.5\n",
    "fruits[-1]\n",
    "# 3.6\n",
    "fruits = [\"apple\", \"banana\", \"cherry\", \"orange\", \"kiwi\", \"melon\", \"mango\"]\n",
    "print(fruits[3:6])\n",
    "# 3.7\n",
    "list1 = [\"a\", \"b\", [\"c\", [\"d\", \"e\", [\"f\", \"g\"], \"k\"], \"l\"], \"m\", \"n\"]\n",
    "list1[2][1][2].append(\"h\")\n",
    "list1[2][1][2].append(\"i\")\n",
    "list1[2][1][2].append(\"j\")\n",
    "list1"
   ]
  },
  {
   "cell_type": "markdown",
   "id": "ecc47673",
   "metadata": {},
   "source": [
    "# Our task finished............"
   ]
  },
  {
   "cell_type": "code",
   "execution_count": null,
   "id": "51f657d7",
   "metadata": {},
   "outputs": [],
   "source": []
  }
 ],
 "metadata": {
  "kernelspec": {
   "display_name": "Python 3 (ipykernel)",
   "language": "python",
   "name": "python3"
  },
  "language_info": {
   "codemirror_mode": {
    "name": "ipython",
    "version": 3
   },
   "file_extension": ".py",
   "mimetype": "text/x-python",
   "name": "python",
   "nbconvert_exporter": "python",
   "pygments_lexer": "ipython3",
   "version": "3.9.12"
  }
 },
 "nbformat": 4,
 "nbformat_minor": 5
}
