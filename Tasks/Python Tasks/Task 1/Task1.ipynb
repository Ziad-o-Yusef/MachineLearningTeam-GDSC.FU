{
 "cells": [
  {
   "cell_type": "code",
   "execution_count": null,
   "id": "71febddb",
   "metadata": {},
   "outputs": [],
   "source": [
    "#Section 1\n",
    "\n",
    "x=1\n",
    "print(x) #1.1\n",
    "\n",
    "x=\"my first ptoject\"\n",
    "print(x) #1.2\n",
    "\n",
    "x=True\n",
    "print(x) #1.3\n",
    "\n",
    "answer_1=15\n",
    "print(type(answer_1)) #1.4\n",
    "\n",
    "answer_2=\"Hallo\"\n",
    "print(type(answer_2)) #1.5\n",
    "\n",
    "floatnum=12.3\n",
    "print(type(floatnum)) #1.6.1\n",
    "\n",
    "strname=\"Welcome\"\n",
    "print(type(strname)) #1.6.2\n",
    "\n",
    "listnums=[1,2,3]\n",
    "print(type(listnums)) #1.6.3\n",
    "\n",
    "setnums={1,2,3}\n",
    "print(type(setnums)) #1.6.4\n",
    "\n",
    "strnum=\"123\"\n",
    "print(type(strnum)) #1.6.5\n"
   ]
  },
  {
   "cell_type": "code",
   "execution_count": 42,
   "id": "2ef52c73",
   "metadata": {},
   "outputs": [
    {
     "name": "stdout",
     "output_type": "stream",
     "text": [
      "AuKellylt\n",
      "The sentence is :aas\n",
      "a\n",
      "The Word is :ewd\n",
      "H\n",
      "llo\n"
     ]
    }
   ],
   "source": [
    "#Section 2\n",
    "\n",
    "s1=\"Ault\"\n",
    "s2=\"Kelly\"\n",
    "s1=s1[:2]+s2+s1[2:]\n",
    "print(s1) #2.1\n",
    "\n",
    "sentence=input(\"The sentence is :\")\n",
    "l=len(sentence)-1\n",
    "for x in sentence:\n",
    "    s=\"\"\n",
    "    s=s+sentence[l]\n",
    "    l=l-1   \n",
    "print(s) #2.2\n",
    "\n",
    "word=input(\"The Word is :\")\n",
    "if word[0]==\"a\":\n",
    "    print(True) #2.3\n",
    "\n",
    "txt=\"Hellow World\"\n",
    "print(txt[0]) #2.4.1\n",
    "print(txt[2:5]) #2.4.2\n",
    "print(txt.upper()) #2.4.3\n",
    "print(txt.;lower()) #2.4.4\n"
   ]
  },
  {
   "cell_type": "code",
   "execution_count": 52,
   "id": "b6041758",
   "metadata": {},
   "outputs": [
    {
     "name": "stdout",
     "output_type": "stream",
     "text": [
      "banana\n",
      "cherry\n",
      "['cherry', 'orange', 'kiwi']\n",
      "['a', 'b', ['c', ['d', 'e', ['f', 'g', 'h', 'i', 'j'], 'k'], 'l'], 'm', 'n']\n"
     ]
    }
   ],
   "source": [
    "#Section 3\n",
    "\n",
    "list1=[100,200,300,400,500]\n",
    "list1.reverse() #3.1\n",
    "\n",
    "fruits=[\"apple\",\"banana\",\"cherry\"]\n",
    "print(fruits[1]) #3.2.1\n",
    "fruits[0]=\"Kiwi\" #3.2.2\n",
    "fruits.insert(1,\"lemon\") #3.2.3\n",
    "print(fruits[-1]) #3.2.4\n",
    "\n",
    "fruits=[\"apple\",\"banana\",\"cherry\",\"orange\",\"kiwi\",\"melon\",\"mango\"]\n",
    "print(fruits[2:5]) #3.3\n",
    "\n",
    "list1=[\"a\",\"b\",[\"c\",[\"d\",\"e\",[\"f\",\"g\"],\"k\"],\"l\"],\"m\",\"n\"]\n",
    "sub_list=[\"h\",\"i\",\"j\"]\n",
    "list1[2][1][2].extend(sub_list)\n",
    "print(list1) #3.4\n"
   ]
  }
 ],
 "metadata": {
  "kernelspec": {
   "display_name": "Python 3 (ipykernel)",
   "language": "python",
   "name": "python3"
  },
  "language_info": {
   "codemirror_mode": {
    "name": "ipython",
    "version": 3
   },
   "file_extension": ".py",
   "mimetype": "text/x-python",
   "name": "python",
   "nbconvert_exporter": "python",
   "pygments_lexer": "ipython3",
   "version": "3.9.13"
  }
 },
 "nbformat": 4,
 "nbformat_minor": 5
}
