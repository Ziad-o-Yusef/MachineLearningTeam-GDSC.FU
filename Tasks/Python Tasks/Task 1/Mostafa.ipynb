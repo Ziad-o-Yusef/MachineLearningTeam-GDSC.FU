{
 "cells": [
  {
   "cell_type": "code",
   "execution_count": 1,
   "id": "9a539ef9",
   "metadata": {},
   "outputs": [
    {
     "name": "stdout",
     "output_type": "stream",
     "text": [
      "the value is : 15\n",
      "the same value is15\n",
      "False\n",
      "the type is:<class 'int'>\n",
      "the type is:<class 'str'>\n",
      "the type is variable is:12.3\n",
      "the type is variable is:123\n",
      "the type is variable is:{1, 2, 3}\n",
      "the type is variable is:[1, 2, 3]\n"
     ]
    }
   ],
   "source": [
    "##taske one exaple one for Mostafa Khaled Sayed Ali\n",
    "value=15;\n",
    "print(\"the value is :\",value)\n",
    "print(f'the same value is{value}')\n",
    "b=value==5\n",
    "print(b)\n",
    "anser_1=15\n",
    "anser_2=\"Hello\"\n",
    "print(f'the type is:{type(anser_1)}')\n",
    "print(f'the type is:{type(anser_2)}')\n",
    "v1=12.3\n",
    "v4=[1,2,3]\n",
    "v2=\"123\"\n",
    "v3={1,2,3}\n",
    "print(f\"the type is variable is:{v1}\")\n",
    "print(f\"the type is variable is:{v2}\")\n",
    "print(f\"the type is variable is:{v3}\")\n",
    "print(f\"the type is variable is:{v4}\")\n"
   ]
  },
  {
   "cell_type": "code",
   "execution_count": 2,
   "id": "df489865",
   "metadata": {},
   "outputs": [
    {
     "name": "stdout",
     "output_type": "stream",
     "text": [
      "Aultkelly\n",
      "Ault kelly\n",
      "Aultkelly\n",
      "tluAtluA\n",
      "tluAtluA\n",
      "False\n",
      "True\n",
      "h\n",
      "llo\n",
      "HELLO WORLD\n",
      "hello world\n"
     ]
    }
   ],
   "source": [
    "## taske one section tow for Mostafa Khaled\n",
    "val1=\"Ault\"\n",
    "val2=\"kelly\"\n",
    "print(val1+val2)\n",
    "print(val1,val2)\n",
    "print(f\"{val1}{val2}\")\n",
    "valtotal=val1+val1\n",
    "x=''.join(reversed(valtotal))\n",
    "\n",
    "print(valtotal[::-1])\n",
    "print(x)\n",
    "\n",
    "print(x[0]=='r')\n",
    "print(x[0]=='t')\n",
    "text=\"hello World\"\n",
    "print(text[0])\n",
    "print(text[2:5])\n",
    "print(text.upper())\n",
    "print(text.lower())\n",
    "\n"
   ]
  },
  {
   "cell_type": "code",
   "execution_count": null,
   "id": "9d3677a2",
   "metadata": {},
   "outputs": [],
   "source": [
    "list1=[100,200,300,400,500]\n",
    "l=list1.reverse()\n",
    "frits=[\"apple\",\"banana\",\"cherry\"]\n",
    "print(frits[1])\n",
    "frits[0]='kiwi'\n",
    "print(frits)\n",
    "frits.insert(1,'lemone')\n",
    "print(frits)\n",
    "print(frits[-1])\n",
    "frits=[\"apple\",\"banana\",\"cherry\",\"orange\",\"kiwi\",\"melon\",\"mango\"]\n",
    "print(frits[3:6])\n",
    "list1=['a','b',['c',['d','e',['f','g'],'k'],'l'],'m','n']\n",
    "sub_list=['h','i','j']\n",
    "list1[2][1][2][2:]=sub_list\n",
    "print(list1)"
   ]
  }
 ],
 "metadata": {
  "kernelspec": {
   "display_name": "Python 3 (ipykernel)",
   "language": "python",
   "name": "python3"
  },
  "language_info": {
   "codemirror_mode": {
    "name": "ipython",
    "version": 3
   },
   "file_extension": ".py",
   "mimetype": "text/x-python",
   "name": "python",
   "nbconvert_exporter": "python",
   "pygments_lexer": "ipython3",
   "version": "3.9.13"
  }
 },
 "nbformat": 4,
 "nbformat_minor": 5
}
