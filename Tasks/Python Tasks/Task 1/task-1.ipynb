{
 "cells": [
  {
   "cell_type": "code",
   "execution_count": 6,
   "id": "d9c954b4",
   "metadata": {},
   "outputs": [
    {
     "name": "stdout",
     "output_type": "stream",
     "text": [
      "10\n",
      "work smart\n",
      "True\n",
      "the type of the answer_1 is : <class 'int'>\n",
      "the type of the answer_2 is : <class 'str'>\n",
      "the type of the variable f is : <class 'float'>\n",
      "the type of the variable l is : <class 'list'>\n",
      "the type of the variable s is : <class 'set'>\n",
      "the type of the variable st is : <class 'str'>\n"
     ]
    }
   ],
   "source": [
    "#section 1\n",
    "#1\n",
    "x=10\n",
    "print(x)\n",
    "#2\n",
    "s=\"work smart\"\n",
    "print(s)\n",
    "#3\n",
    "bl=True\n",
    "print(bl)\n",
    "#4,5\n",
    "answer_1=15\n",
    "answer_2=\"hallo\"\n",
    "print(f\"the type of the answer_1 is : {type(answer_1)}\")\n",
    "print(f\"the type of the answer_2 is : {type(answer_2)}\")\n",
    "#6\n",
    "f=12.3\n",
    "l=[1,2,3]\n",
    "s={1,2,3}\n",
    "st=\"123\"\n",
    "print(f\"the type of the variable f is : {type(f)}\")\n",
    "print(f\"the type of the variable l is : {type(l)}\")\n",
    "print(f\"the type of the variable s is : {type(s)}\")\n",
    "print(f\"the type of the variable st is : {type(st)}\")\n",
    "\n"
   ]
  },
  {
   "cell_type": "code",
   "execution_count": 5,
   "id": "02570e05",
   "metadata": {},
   "outputs": [
    {
     "name": "stdout",
     "output_type": "stream",
     "text": [
      "please enter the word 1:ault\n",
      "please enter the word 2:kelly\n",
      "aukellylt\n",
      "the reverse list is :tlyllekua\n",
      "ltkellyau\n",
      "True\n",
      "H\n",
      "llo\n",
      "HELLO WORLD\n",
      "hello world\n"
     ]
    }
   ],
   "source": [
    "#section2\n",
    "\n",
    "\n",
    "s1=input(\"please enter the word 1:\")\n",
    "s2=input(\"please enter the word 2:\")\n",
    "if len(s1)%2<5:\n",
    "    l=round(len(s1)//2)\n",
    "else:\n",
    "    l=round(len(s1)//2)+1\n",
    "x= s1[0:l] + s2 + s1[l:]\n",
    "print(x)\n",
    "#2\n",
    "print(f\"the reverse string is :{x[::-1]}\")\n",
    "# another answer\n",
    "\n",
    "v= [s1[0:2],s2, s1[2:]]\n",
    "\n",
    "v.reverse()\n",
    "v=\"\".join(v)\n",
    "print(f\"the reverse string is :{v}\")\n",
    "#3\n",
    "#check string start  by startswith() exp:\n",
    "print(f\"the string start is :{s1.startswith(\"a\")}\")\n",
    "#4\n",
    "tx=\"Hello World\"\n",
    "print(tx[0])\n",
    "#5\n",
    "print(tx[2:5])\n",
    "#6\n",
    "print(tx.upper())\n",
    "#7\n",
    "print(tx.lower())\n"
   ]
  },
  {
   "cell_type": "code",
   "execution_count": 64,
   "id": "ec22ca69",
   "metadata": {},
   "outputs": [
    {
     "name": "stdout",
     "output_type": "stream",
     "text": [
      "the reverse list is :[500, 400, 300, 200, 100]\n",
      "the output of the secound item in the fruit lis is : banana\n",
      " the output of the change apple to kiwi is : ['kiwi', 'banana', 'chery']\n",
      " the output of after insert lemon is : ['kiwi', 'lemon', 'banana', 'chery']\n",
      "the output of the fruits from 3 to 5 is : ['orange', 'kiwi', 'melon']\n",
      " the extend list by adding the sublust is :['a', 'b', ['c', 'd', 'e', ['f', 'g', 'h', 'i', 'j'], 'k'], 'l', 'm', 'n']\n"
     ]
    }
   ],
   "source": [
    "#section3\n",
    "#1\n",
    "list1=[100,200,300,400,500]\n",
    "list1.reverse()\n",
    "print(f\"the reverse list is :{list1}\")\n",
    "#2\n",
    "fruits=[\"apple\",\"banana\",\"chery\"]\n",
    "print(f\"the output of the secound item in the fruit lis is : {fruits[1]}\")\n",
    "fruits[0]=\"kiwi\"\n",
    "print(f\" the output of the change apple to kiwi is : {fruits}\")\n",
    "fruits.insert(1,\"lemon\")\n",
    "print(f\" the output of after insert lemon is : {fruits}\")\n",
    "#3\n",
    "fruits=[\"apple\",\"banana\",\"chery\",\"orange\",\"kiwi\",\"melon\",\"mango\"]\n",
    "print(f\"the output of the fruits from 3 to 5 is : {fruits[3:6]}\")\n",
    "#4\n",
    "list1=[\"a\",\"b\",[\"c\",\"d\",\"e\",[\"f\",\"g\"],\"k\"],\"l\",\"m\",\"n\"]\n",
    "sup_list=[\"h\",\"i\",\"j\"]\n",
    "list1[2][3].extend(sup_list)\n",
    "\n",
    "\n",
    "print(f\" the extend list by adding the sublust is :{list1}\")\n",
    "\n"
   ]
  },
  {
   "cell_type": "code",
   "execution_count": null,
   "id": "25816f28",
   "metadata": {},
   "outputs": [],
   "source": []
  },
  {
   "cell_type": "code",
   "execution_count": null,
   "id": "8689fa9c",
   "metadata": {},
   "outputs": [],
   "source": []
  }
 ],
 "metadata": {
  "kernelspec": {
   "display_name": "Python 3 (ipykernel)",
   "language": "python",
   "name": "python3"
  },
  "language_info": {
   "codemirror_mode": {
    "name": "ipython",
    "version": 3
   },
   "file_extension": ".py",
   "mimetype": "text/x-python",
   "name": "python",
   "nbconvert_exporter": "python",
   "pygments_lexer": "ipython3",
   "version": "3.9.13"
  }
 },
 "nbformat": 4,
 "nbformat_minor": 5
}
