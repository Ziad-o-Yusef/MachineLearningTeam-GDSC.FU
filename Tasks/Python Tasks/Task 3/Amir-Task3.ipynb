{
 "cells": [
  {
   "cell_type": "code",
   "execution_count": 71,
   "id": "0a14ddc8",
   "metadata": {},
   "outputs": [],
   "source": [
    "class Doctor:\n",
    "    def __init__(self,Id,name,field):\n",
    "        self.Id = Id\n",
    "        self.name = name\n",
    "        self.field = field\n",
    "    def show_data_doctor(self):\n",
    "        print(\"Id:\",self.Id,\"Name:\",self.name,\"Field:\",self.field)"
   ]
  },
  {
   "cell_type": "code",
   "execution_count": 72,
   "id": "34e7f014",
   "metadata": {},
   "outputs": [],
   "source": [
    "class Patient:\n",
    "    def __init__(self,Id,name,phone,address,medical_history):\n",
    "        self.Id = Id\n",
    "        self.name = name\n",
    "        self.phone = phone\n",
    "        self.address = address\n",
    "        self.medical_history = medical_history\n",
    "    def show_data_patient(self):\n",
    "        print(\"ID:\",self.Id,\"Name:\",self.name,\"Phone:\"\n",
    "              ,self.phone,\"Address:\",self.address,\"Medical_history:\",self.medical_history)\n",
    "    def update_medical_history(self,medical_history):\n",
    "        self.medical_history=medical_history"
   ]
  },
  {
   "cell_type": "code",
   "execution_count": 73,
   "id": "f729319c",
   "metadata": {},
   "outputs": [],
   "source": [
    "id_creation = 0\n",
    "database = {}\n",
    "def user_interface():\n",
    "    \n",
    "    global id_creation\n",
    "    global database  \n",
    "    selection = int(input(\"Add new Doctor [1], Add new Patient [2],update medical history [3]\"))\n",
    "    if selection == 1 :\n",
    "        Id_d = int(input('Doctor id: '))\n",
    "        name_d = input('Doctor name: ')\n",
    "        field_d = input('Field name: ')\n",
    "        s_id = id_creation\n",
    "        id_creation = id_creation+1\n",
    "        d=Doctor(Id_d,name_d,field_d)\n",
    "        database[s_id] = d\n",
    "        return database[s_id]\n",
    "    if selection == 2:\n",
    "        Id_p = int(input('Patient id: '))\n",
    "        name_p = input('Patient name: ')\n",
    "        phone_p = input('Phone Number: ')\n",
    "        address_p = input('Address name: ')\n",
    "        medical_history_p = input('Medical_history: ')\n",
    "        s_id = id_creation\n",
    "        id_creation = id_creation+1\n",
    "        s=p=Patient(Id_p,name_p,phone_p,address_p,medical_history_p)\n",
    "        database[s_id] = p\n",
    "        return database[s_id]\n",
    "    else:\n",
    "        new_medical_history_p = input('New Medical_history: ')\n",
    "        s.update_medical_history(new_medical_history_p)\n",
    "        print(\"Done\")"
   ]
  },
  {
   "cell_type": "code",
   "execution_count": 76,
   "id": "96d50261",
   "metadata": {},
   "outputs": [
    {
     "name": "stdout",
     "output_type": "stream",
     "text": [
      "Add new Doctor [1], Add new Patient [2],update medical history [3]2\n",
      "Patient id: 2\n",
      "Patient name: mohamed\n",
      "Phone Number: 010\n",
      "Address name: lkj\n",
      "Medical_history: zxc\n"
     ]
    }
   ],
   "source": [
    "s=user_interface()"
   ]
  },
  {
   "cell_type": "code",
   "execution_count": 79,
   "id": "c03cae34",
   "metadata": {},
   "outputs": [
    {
     "name": "stdout",
     "output_type": "stream",
     "text": [
      "ID: 2 Name: mohamed Phone: 010 Address: lkj Medical_history: zxc\n"
     ]
    }
   ],
   "source": [
    "#s.show_data_doctor()\n",
    "s.show_data_patient()"
   ]
  },
  {
   "cell_type": "code",
   "execution_count": null,
   "id": "f5901ad8",
   "metadata": {},
   "outputs": [],
   "source": []
  }
 ],
 "metadata": {
  "kernelspec": {
   "display_name": "Python 3 (ipykernel)",
   "language": "python",
   "name": "python3"
  },
  "language_info": {
   "codemirror_mode": {
    "name": "ipython",
    "version": 3
   },
   "file_extension": ".py",
   "mimetype": "text/x-python",
   "name": "python",
   "nbconvert_exporter": "python",
   "pygments_lexer": "ipython3",
   "version": "3.9.13"
  }
 },
 "nbformat": 4,
 "nbformat_minor": 5
}
