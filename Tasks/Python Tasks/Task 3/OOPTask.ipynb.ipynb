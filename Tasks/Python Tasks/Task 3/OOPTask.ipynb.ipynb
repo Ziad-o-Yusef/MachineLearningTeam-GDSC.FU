{
 "cells": [
  {
   "cell_type": "code",
   "execution_count": null,
   "id": "8402d292",
   "metadata": {},
   "outputs": [],
   "source": [
    "patient={\n",
    "     \"patient_id\" :\" P_opj  \"\n",
    "}\n",
    "doctorData={\n",
    "     \"doctor_ID\" :\" D_opj  \"\n",
    "}\n",
    "id_creation = 0\n",
    "def UI_emulator():\n",
    "    global patient\n",
    "    global id_creation\n",
    "    global doctorData\n",
    "    selection = int(input(\"Add new  doctor [1], Add new  patient [2], search doctor [3],search patient [4] \"))\n",
    "    if selection == 1 :\n",
    "        doctor_name = input('doctor name: ')\n",
    "        doctor_ID = id_creation\n",
    "        id_creation = id_creation+1 \n",
    "        doctor_field = input('doctor field: ')\n",
    "        D_opj = doctor(doctor_ID,doctor_name,doctor_field)\n",
    "        doctorData[doctor_ID]=D_opj\n",
    "        return doctor_ID\n",
    "    if selection == 2 :\n",
    "        patient_name = input('patient name: ')\n",
    "        patient_id = id_creation\n",
    "        id_creation = id_creation+1 \n",
    "        patient_phone = input('patient phone: ')\n",
    "        patient_address = input('patient address: ')\n",
    "        patient_medicalHistory = input('His medical history: ')\n",
    "        P_opj = patien(patient_name,patient_id,patient_phone,patient_address,patient_medicalHistory)\n",
    "        patient[patient_id] = P_opj \n",
    "        return patient_id \n",
    "\n",
    "    if selection == 3 :\n",
    "        doctor_ID = int(input(\"doctor ID: \"))\n",
    "        return doctorData[doctor_ID]\n",
    "   \n",
    "    else:\n",
    "        patient_id = int(input(\"patient ID: \"))\n",
    "        return patient[patient_id]\n",
    "   "
   ]
  },
  {
   "cell_type": "code",
   "execution_count": 12,
   "id": "87088e25",
   "metadata": {},
   "outputs": [],
   "source": [
    "class patien:\n",
    "    def __init__(self,patient_name,patient_id,patient_phone,patient_address,patient_medicalHistory):\n",
    "        self.patient_name = patient_name\n",
    "        self.patient_id = patient_id\n",
    "        self.patient_phone = patient_phone\n",
    "        self.patient_address = patient_address\n",
    "        self.patient_medicalHistory = patient_medicalHistory\n",
    "    def show(self):\n",
    "        print(\"patient_name: \" + str(self.patient_name) )\n",
    "        print(\"patient_ID : \" + str(self.patient_id) )\n",
    "        print(\"patient_phone : \" + str(self.patient_phone) )\n",
    "        print(\"patient_address : \" + str(self.patient_address) )\n",
    "        print(\"patient_medicalHistory : \" + str(self.patient_medicalHistory) )\n",
    "    def update_medicalHistory(self,new_medical): \n",
    "        self.new_medical=new_medical\n",
    "        new_medical = input('new medical history: ')\n",
    "        patient_medicalHistory.update(new_medical)\n",
    "        print(\" new patient_medicalHistory : \" + str(self.patient_medicalHistory) )\n",
    "    def set_notes(self,notes):\n",
    "        self.notes=notes\n",
    "        notes = input('Enter your notes for the doctor : ')\n",
    "        return notes\n",
    "\n",
    "        \n",
    "        \n",
    "        \n",
    "    "
   ]
  },
  {
   "cell_type": "code",
   "execution_count": 13,
   "id": "6ad45164",
   "metadata": {},
   "outputs": [],
   "source": [
    "class doctor():\n",
    "    def __init__(self,doctor_ID,doctor_name,doctor_field):\n",
    "        self.doctor_ID = doctor_ID\n",
    "        self.doctor_name = doctor_name\n",
    "        self.doctor_field = doctor_field\n",
    "        \n",
    "    def dictionary(self, arg):\n",
    "      \n",
    "         return self.patient[arg](arg)\n",
    "         ## return getattr( (self, self.patient[arg])(arg)\n",
    "         ## self.patient[arg].__get__(self, type(self))(arg)\n",
    "        \n",
    "      "
   ]
  },
  {
   "cell_type": "code",
   "execution_count": null,
   "id": "afb5fef9",
   "metadata": {},
   "outputs": [],
   "source": []
  },
  {
   "cell_type": "code",
   "execution_count": null,
   "id": "4ccf22bd",
   "metadata": {},
   "outputs": [],
   "source": [
    "class Moderator():\n",
    "     \n",
    "       \n",
    "        \n",
    "          \n",
    "     \n",
    "    "
   ]
  },
  {
   "cell_type": "code",
   "execution_count": 6,
   "id": "3082dcaa",
   "metadata": {},
   "outputs": [
    {
     "name": "stdout",
     "output_type": "stream",
     "text": [
      "Add new  doctor [1], Add new  patient [2], search doctor [3],search patient [3] 1\n",
      "doctor name: soad\n",
      "doctor field: ddd\n"
     ]
    },
    {
     "data": {
      "text/plain": [
       "1"
      ]
     },
     "execution_count": 6,
     "metadata": {},
     "output_type": "execute_result"
    }
   ],
   "source": [
    "UI_emulator()\n"
   ]
  },
  {
   "cell_type": "code",
   "execution_count": 9,
   "id": "7578e472",
   "metadata": {},
   "outputs": [
    {
     "name": "stdout",
     "output_type": "stream",
     "text": [
      "Add new  doctor [1], Add new  patient [2], search doctor [3],search patient [3] 2\n",
      "patient name: gana\n",
      "patient phone: 010\n",
      "patient address: ddd\n",
      "His medical history: ddd\n"
     ]
    },
    {
     "data": {
      "text/plain": [
       "0"
      ]
     },
     "execution_count": 9,
     "metadata": {},
     "output_type": "execute_result"
    }
   ],
   "source": [
    "UI_emulator()\n"
   ]
  },
  {
   "cell_type": "code",
   "execution_count": null,
   "id": "078f8a3f",
   "metadata": {},
   "outputs": [],
   "source": [
    "\n"
   ]
  },
  {
   "cell_type": "code",
   "execution_count": null,
   "id": "4e37aa55",
   "metadata": {},
   "outputs": [],
   "source": []
  }
 ],
 "metadata": {
  "kernelspec": {
   "display_name": "Python 3 (ipykernel)",
   "language": "python",
   "name": "python3"
  },
  "language_info": {
   "codemirror_mode": {
    "name": "ipython",
    "version": 3
   },
   "file_extension": ".py",
   "mimetype": "text/x-python",
   "name": "python",
   "nbconvert_exporter": "python",
   "pygments_lexer": "ipython3",
   "version": "3.9.13"
  }
 },
 "nbformat": 4,
 "nbformat_minor": 5
}
