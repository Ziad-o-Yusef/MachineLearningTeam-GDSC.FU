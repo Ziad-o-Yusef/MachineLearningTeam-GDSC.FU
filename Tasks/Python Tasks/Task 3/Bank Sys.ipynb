{
 "cells": [
  {
   "cell_type": "code",
   "execution_count": 98,
   "id": "9c2dc3bb",
   "metadata": {},
   "outputs": [],
   "source": [
    "class User():\n",
    "    def __init__(self,name,age,ID,gender,CreditNo):\n",
    "        self.name=name\n",
    "        self.age=age\n",
    "        self.ID=ID\n",
    "        self.gender=gender\n",
    "        self.CreditNo = CreditNo\n",
    "    def User_Details(self):\n",
    "        print('Name : ' , self.name)\n",
    "        print('Age : ' , self.age)\n",
    "        print('National ID : ' , self.ID)\n",
    "        print('Gender : ' , self.gender)\n",
    "        print('Credit Card Number :' , self.CreditNo)"
   ]
  },
  {
   "cell_type": "code",
   "execution_count": 99,
   "id": "919d2084",
   "metadata": {},
   "outputs": [],
   "source": [
    "def GetInfo():\n",
    "    name = input(\"Enter Ur Name : \")\n",
    "    age = input(\"Enter Ur Age : \")\n",
    "    ID = input(\"Enter Ur National ID : \")\n",
    "    gender = input(\"Enter Ur Gender : \")\n",
    "    CreditNo = input(\"Enter Ur Credit Card Nummber :\")\n",
    "    usr = User(name,age,ID,gender,CreditNo)\n",
    "   "
   ]
  },
  {
   "cell_type": "code",
   "execution_count": 100,
   "id": "eab987ce",
   "metadata": {},
   "outputs": [],
   "source": [
    "class Bank(User):\n",
    "    def __init__(self,name,age,ID,gender,CreditNo):\n",
    "        super().__init__(name,age,ID,gender,CreditNo)\n",
    "        self.balance = 0\n",
    "    def deposit(self,amount):\n",
    "        self.amount = amount\n",
    "        self.balance = self.balance + amount\n",
    "        print(f\"Cerdit Card with Number {self.CreditNo} it's current Account Balance has been updated : $ {self.amount}\")\n",
    "    def withdraw(self,amount):\n",
    "        self.amount = amount\n",
    "        if self.amount > self.balance:\n",
    "            print(\"Insufficient Funds | Cuz Balance Available \" , self.balace)\n",
    "        else:\n",
    "            self.balance = self.balance - self.amount\n",
    "            print(f\"${self.amount} has been withdrawn\")\n",
    "            print(\"Account Balance has been updated : $\" , self.balance)\n",
    "    def View_Balance(self):\n",
    "        print(\"Account Details :- \")\n",
    "        super().User_Details()\n",
    "        print(\"Account Balance has been updated : $\" , self.balance)\n",
    "        \n",
    "        \n",
    "        "
   ]
  },
  {
   "cell_type": "code",
   "execution_count": 89,
   "id": "f229c6bb",
   "metadata": {},
   "outputs": [
    {
     "name": "stdout",
     "output_type": "stream",
     "text": [
      "Enter Ur Name : Manar\n",
      "Enter Ur Age : 21\n",
      "Enter Ur National ID : 123456789\n",
      "Enter Ur Gender : Female\n",
      "Enter Ur Credit Card Nummber :205\n"
     ]
    }
   ],
   "source": [
    "GetInfo()"
   ]
  },
  {
   "cell_type": "code",
   "execution_count": 101,
   "id": "32fbb2c5",
   "metadata": {},
   "outputs": [],
   "source": [
    "obj = Bank('Manar',21,1235976,'Female',205)"
   ]
  },
  {
   "cell_type": "code",
   "execution_count": 102,
   "id": "d197ecfe",
   "metadata": {},
   "outputs": [
    {
     "name": "stdout",
     "output_type": "stream",
     "text": [
      "Cerdit Card with Number 205 it's current Account Balance has been updated : $ 5000\n"
     ]
    }
   ],
   "source": [
    "obj.deposit(5000)"
   ]
  },
  {
   "cell_type": "code",
   "execution_count": 103,
   "id": "0ad2c8ae",
   "metadata": {},
   "outputs": [
    {
     "name": "stdout",
     "output_type": "stream",
     "text": [
      "$500 has been withdrawn\n",
      "Account Balance has been updated : $ 4500\n"
     ]
    }
   ],
   "source": [
    "obj.withdraw(500)"
   ]
  },
  {
   "cell_type": "code",
   "execution_count": 104,
   "id": "90078243",
   "metadata": {},
   "outputs": [
    {
     "name": "stdout",
     "output_type": "stream",
     "text": [
      "Account Details :- \n",
      "Name :  Manar\n",
      "Age :  21\n",
      "National ID :  1235976\n",
      "Gender :  Female\n",
      "Credit Card Number : 205\n",
      "Account Balance has been updated : $ 4500\n"
     ]
    }
   ],
   "source": [
    "obj.View_Balance()"
   ]
  }
 ],
 "metadata": {
  "kernelspec": {
   "display_name": "Python 3 (ipykernel)",
   "language": "python",
   "name": "python3"
  },
  "language_info": {
   "codemirror_mode": {
    "name": "ipython",
    "version": 3
   },
   "file_extension": ".py",
   "mimetype": "text/x-python",
   "name": "python",
   "nbconvert_exporter": "python",
   "pygments_lexer": "ipython3",
   "version": "3.9.13"
  }
 },
 "nbformat": 4,
 "nbformat_minor": 5
}
