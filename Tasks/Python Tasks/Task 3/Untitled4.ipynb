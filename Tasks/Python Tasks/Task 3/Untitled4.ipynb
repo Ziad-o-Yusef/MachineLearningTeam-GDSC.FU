{
 "cells": [
  {
   "cell_type": "code",
   "execution_count": 37,
   "id": "4c329f15",
   "metadata": {},
   "outputs": [],
   "source": [
    "class doctor:\n",
    "    def __init__(self, id, name, field):\n",
    "        self.id = id\n",
    "        self.name = name\n",
    "        self.field = field\n",
    "    def get_patient(self):\n",
    "        ##for i in data.values():\n",
    "            ##print(values)\n",
    "        list_of_the_values = data.values()\n",
    "        print(list_of_the_values)"
   ]
  },
  {
   "cell_type": "code",
   "execution_count": 16,
   "id": "c2956952",
   "metadata": {},
   "outputs": [],
   "source": [
    "class patient:\n",
    "    def __init__(self, id , name, phone, address, mhis):\n",
    "        self.id = id\n",
    "        self.name = name\n",
    "        self.phone = phone\n",
    "        self.address = address\n",
    "        self.mhis = mhis\n",
    "    def show(self):\n",
    "        print(\"id: \", self.id)\n",
    "        print(\"name: \", self.name)\n",
    "        print(\"phone: \", self.phone)\n",
    "        print(\"address: \", self.address)\n",
    "        print(\"mhis: \", self.mhis)\n",
    "    def update_mhis(self):\n",
    "        self.mhis = input(\"update medical history: \" )\n",
    "    def set_note(self):\n",
    "        note = input(\"set notes: \")\n",
    "        print(note)\n"
   ]
  },
  {
   "cell_type": "code",
   "execution_count": 8,
   "id": "90edfdc6",
   "metadata": {},
   "outputs": [],
   "source": [
    "id_creation = 0\n",
    "data = {}\n",
    "counter = 0 \n",
    "def interface():\n",
    "    global id_creation\n",
    "    global data   \n",
    "    global counter\n",
    "    name = input('patient name: ')\n",
    "    address = input('patient address : ')\n",
    "    phone = input('patient phone: ')    \n",
    "    mhis   = input('patient medical history: ')    \n",
    "    id = id_creation\n",
    "    id_creation = id_creation+1 \n",
    "    pt_obj = patient(id , name, phone, address, mhis)\n",
    "    data[id] = pt_obj\n",
    "    counter = counter+1\n",
    "    return id"
   ]
  },
  {
   "cell_type": "code",
   "execution_count": 9,
   "id": "0b7edfa8",
   "metadata": {},
   "outputs": [
    {
     "name": "stdout",
     "output_type": "stream",
     "text": [
      "patient name: dkf\n",
      "patient address : dfjk\n",
      "patient phone: 05\n",
      "patient medical history: dfj\n"
     ]
    },
    {
     "data": {
      "text/plain": [
       "0"
      ]
     },
     "execution_count": 9,
     "metadata": {},
     "output_type": "execute_result"
    }
   ],
   "source": [
    "interface()"
   ]
  },
  {
   "cell_type": "code",
   "execution_count": 10,
   "id": "b6c3cef0",
   "metadata": {},
   "outputs": [
    {
     "name": "stdout",
     "output_type": "stream",
     "text": [
      "patient name: lkfjs\n",
      "patient address : sw\n",
      "patient phone: 010\n",
      "patient medical history: jd\n"
     ]
    },
    {
     "data": {
      "text/plain": [
       "1"
      ]
     },
     "execution_count": 10,
     "metadata": {},
     "output_type": "execute_result"
    }
   ],
   "source": [
    "interface()"
   ]
  },
  {
   "cell_type": "code",
   "execution_count": 17,
   "id": "c0c21cd3",
   "metadata": {},
   "outputs": [
    {
     "name": "stdout",
     "output_type": "stream",
     "text": [
      "2\n"
     ]
    }
   ],
   "source": [
    "print(counter)"
   ]
  },
  {
   "cell_type": "code",
   "execution_count": 38,
   "id": "a02aac9a",
   "metadata": {},
   "outputs": [
    {
     "name": "stdout",
     "output_type": "stream",
     "text": [
      "dict_values([<__main__.patient object at 0x000001DC35080430>, <__main__.patient object at 0x000001DC3508A580>])\n",
      "None\n"
     ]
    }
   ],
   "source": [
    "d = doctor(54,\"gf\",\"doctor\")\n",
    "print(d.get_patient())\n",
    "##print(data.values())"
   ]
  },
  {
   "cell_type": "code",
   "execution_count": null,
   "id": "c205aa11",
   "metadata": {},
   "outputs": [],
   "source": []
  },
  {
   "cell_type": "code",
   "execution_count": null,
   "id": "976e0f71",
   "metadata": {},
   "outputs": [],
   "source": []
  }
 ],
 "metadata": {
  "kernelspec": {
   "display_name": "Python 3 (ipykernel)",
   "language": "python",
   "name": "python3"
  },
  "language_info": {
   "codemirror_mode": {
    "name": "ipython",
    "version": 3
   },
   "file_extension": ".py",
   "mimetype": "text/x-python",
   "name": "python",
   "nbconvert_exporter": "python",
   "pygments_lexer": "ipython3",
   "version": "3.9.13"
  }
 },
 "nbformat": 4,
 "nbformat_minor": 5
}
