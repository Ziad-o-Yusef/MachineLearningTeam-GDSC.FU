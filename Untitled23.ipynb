{
  "nbformat": 4,
  "nbformat_minor": 0,
  "metadata": {
    "colab": {
      "private_outputs": true,
      "provenance": [],
      "toc_visible": true
    },
    "kernelspec": {
      "name": "python3",
      "display_name": "Python 3"
    },
    "language_info": {
      "name": "python"
    }
  },
  "cells": [
    {
      "cell_type": "code",
      "execution_count": null,
      "metadata": {
        "id": "BtkHrf_v1ojz"
      },
      "outputs": [],
      "source": [
        "import pandas as pd\n",
        "import numpy as np\n",
        "import random as rnd\n",
        "\n",
        "# visualization\n",
        "import seaborn as sns\n",
        "import matplotlib.pyplot as plt\n",
        "%matplotlib inline\n"
      ]
    },
    {
      "cell_type": "code",
      "source": [
        "from google.colab import files\n",
        "df2 = files.upload()\n"
      ],
      "metadata": {
        "id": "HVdO5AG44aK3"
      },
      "execution_count": null,
      "outputs": []
    },
    {
      "cell_type": "code",
      "source": [
        "import io\n",
        "df = pd.read_csv(io.BytesIO(df2['telecom_churn.csv']))\n"
      ],
      "metadata": {
        "id": "s4pHZEs_ohf-"
      },
      "execution_count": null,
      "outputs": []
    },
    {
      "cell_type": "code",
      "source": [
        "df.head()"
      ],
      "metadata": {
        "id": "HrlSmLSj-OrM"
      },
      "execution_count": null,
      "outputs": []
    },
    {
      "cell_type": "code",
      "source": [
        "df.info()"
      ],
      "metadata": {
        "id": "tRnwbF-Y-1gW"
      },
      "execution_count": null,
      "outputs": []
    },
    {
      "cell_type": "code",
      "source": [
        "df.duplicated().isna()"
      ],
      "metadata": {
        "id": "PmaCVKUf-RhK"
      },
      "execution_count": null,
      "outputs": []
    },
    {
      "cell_type": "code",
      "source": [
        "df.isnull().sum()\n"
      ],
      "metadata": {
        "id": "Uu3OAply-lIb"
      },
      "execution_count": null,
      "outputs": []
    },
    {
      "cell_type": "code",
      "source": [
        "df.nunique()\n"
      ],
      "metadata": {
        "id": "d68wnKggAUn4"
      },
      "execution_count": null,
      "outputs": []
    },
    {
      "cell_type": "code",
      "source": [
        "print(df.shape)\n"
      ],
      "metadata": {
        "id": "BsuLmraApK_v"
      },
      "execution_count": null,
      "outputs": []
    },
    {
      "cell_type": "code",
      "source": [
        "print(df.columns)\n"
      ],
      "metadata": {
        "id": "ImdIEHlYpM97"
      },
      "execution_count": null,
      "outputs": []
    },
    {
      "cell_type": "code",
      "source": [
        "df[\"Churn\"] = df[\"Churn\"].astype(\"int64\")\n"
      ],
      "metadata": {
        "id": "TgvOguKJpQ9-"
      },
      "execution_count": null,
      "outputs": []
    },
    {
      "cell_type": "code",
      "source": [
        "df.describe()\n"
      ],
      "metadata": {
        "id": "XzXdRZdnpWnS"
      },
      "execution_count": null,
      "outputs": []
    },
    {
      "cell_type": "code",
      "source": [
        "df.describe(include=[\"object\", \"bool\"])\n"
      ],
      "metadata": {
        "id": "Bf5xngi6paZD"
      },
      "execution_count": null,
      "outputs": []
    },
    {
      "cell_type": "code",
      "source": [
        "df[\"Churn\"].value_counts()\n"
      ],
      "metadata": {
        "id": "OgWRmu7ApiZN"
      },
      "execution_count": null,
      "outputs": []
    },
    {
      "cell_type": "code",
      "source": [
        "df.sort_values(by=\"Total day charge\", ascending=False).head()"
      ],
      "metadata": {
        "id": "L1vci6d-plw_"
      },
      "execution_count": null,
      "outputs": []
    },
    {
      "cell_type": "code",
      "source": [
        "df.sort_values(by=[\"Churn\", \"Total day charge\"], ascending=[True, False]).head()"
      ],
      "metadata": {
        "id": "-I54FOZ3pvWM"
      },
      "execution_count": null,
      "outputs": []
    },
    {
      "cell_type": "code",
      "source": [
        "df[\"Churn\"].mean()"
      ],
      "metadata": {
        "id": "hLuB6RnYp0jd"
      },
      "execution_count": null,
      "outputs": []
    },
    {
      "cell_type": "code",
      "source": [
        "df[df[\"Churn\"] == 1].mean()"
      ],
      "metadata": {
        "id": "ohmgngb5p5lL"
      },
      "execution_count": null,
      "outputs": []
    },
    {
      "cell_type": "code",
      "source": [
        "df[df[\"Churn\"] == 1][\"Total day minutes\"].mean()"
      ],
      "metadata": {
        "id": "sTtLDXisp9I1"
      },
      "execution_count": null,
      "outputs": []
    },
    {
      "cell_type": "code",
      "source": [
        "df[(df[\"Churn\"] == 0) & (df[\"International plan\"] == \"No\")][\"Total intl minutes\"].max()"
      ],
      "metadata": {
        "id": "OM_pZjO7qCQI"
      },
      "execution_count": null,
      "outputs": []
    },
    {
      "cell_type": "code",
      "source": [
        "df.loc[0:5, \"State\":\"Area code\"]"
      ],
      "metadata": {
        "id": "564E7DS2qG93"
      },
      "execution_count": null,
      "outputs": []
    },
    {
      "cell_type": "code",
      "source": [
        "df.iloc[0:5, 0:3]"
      ],
      "metadata": {
        "id": "auGiyzT_qLPc"
      },
      "execution_count": null,
      "outputs": []
    },
    {
      "cell_type": "code",
      "source": [
        "df[-1:]"
      ],
      "metadata": {
        "id": "7lILddhSqOiS"
      },
      "execution_count": null,
      "outputs": []
    },
    {
      "cell_type": "code",
      "source": [
        "df.apply(np.max)"
      ],
      "metadata": {
        "id": "4pmYXfCXqSyI"
      },
      "execution_count": null,
      "outputs": []
    },
    {
      "cell_type": "code",
      "source": [
        "df[df[\"State\"].apply(lambda state: state[0] == \"W\")].head()"
      ],
      "metadata": {
        "id": "GjdNd1tWqZE6"
      },
      "execution_count": null,
      "outputs": []
    },
    {
      "cell_type": "code",
      "source": [
        "d = {\"No\": False, \"Yes\": True}\n",
        "df[\"International plan\"] = df[\"International plan\"].map(d)\n",
        "df.head()"
      ],
      "metadata": {
        "id": "fDRH_XYDqlpI"
      },
      "execution_count": null,
      "outputs": []
    },
    {
      "cell_type": "code",
      "source": [
        "df = df.replace({\"Voice mail plan\": d})\n",
        "df.head()"
      ],
      "metadata": {
        "id": "7jWNNyvGqrBN"
      },
      "execution_count": null,
      "outputs": []
    },
    {
      "cell_type": "code",
      "source": [
        "columns_to_show = [\"Total day minutes\", \"Total eve minutes\", \"Total night minutes\"]\n",
        "\n",
        "df.groupby([\"Churn\"])[columns_to_show].describe(percentiles=[])"
      ],
      "metadata": {
        "id": "c36nP8cEq9TW"
      },
      "execution_count": null,
      "outputs": []
    },
    {
      "cell_type": "code",
      "source": [
        "columns_to_show = [\"Total day minutes\", \"Total eve minutes\", \"Total night minutes\"]\n",
        "\n",
        "df.groupby([\"Churn\"])[columns_to_show].agg([np.mean, np.std, np.min, np.max])\n"
      ],
      "metadata": {
        "id": "JSrx47vZrDjd"
      },
      "execution_count": null,
      "outputs": []
    },
    {
      "cell_type": "code",
      "source": [
        "pd.crosstab(df[\"Churn\"], df[\"International plan\"])"
      ],
      "metadata": {
        "id": "GD9mbCO0rFaO"
      },
      "execution_count": null,
      "outputs": []
    },
    {
      "cell_type": "code",
      "source": [
        "pd.crosstab(df[\"Churn\"], df[\"Voice mail plan\"], normalize=True)"
      ],
      "metadata": {
        "id": "u_-Q3SBxrKHZ"
      },
      "execution_count": null,
      "outputs": []
    },
    {
      "cell_type": "code",
      "source": [
        "df.pivot_table(\n",
        "    [\"Total day calls\", \"Total eve calls\", \"Total night calls\"],\n",
        "    [\"Area code\"],\n",
        "    aggfunc=\"mean\",\n",
        ")"
      ],
      "metadata": {
        "id": "-wWPDJvQrNvL"
      },
      "execution_count": null,
      "outputs": []
    },
    {
      "cell_type": "code",
      "source": [
        "total_calls = (\n",
        "    df[\"Total day calls\"]\n",
        "    + df[\"Total eve calls\"]\n",
        "    + df[\"Total night calls\"]\n",
        "    + df[\"Total intl calls\"]\n",
        ")\n",
        "df.insert(loc=len(df.columns), column=\"Total calls\", value=total_calls)"
      ],
      "metadata": {
        "id": "OU8g5WE8rTMT"
      },
      "execution_count": null,
      "outputs": []
    },
    {
      "cell_type": "code",
      "source": [
        "df.head()"
      ],
      "metadata": {
        "id": "Xt7CxbGFrZiY"
      },
      "execution_count": null,
      "outputs": []
    },
    {
      "cell_type": "code",
      "source": [
        "df[\"Total charge\"] = (\n",
        "    df[\"Total day charge\"]\n",
        "    + df[\"Total eve charge\"]\n",
        "    + df[\"Total night charge\"]\n",
        "    + df[\"Total intl charge\"]\n",
        ")\n",
        "df.head()\n"
      ],
      "metadata": {
        "id": "RCad5-c7r8xx"
      },
      "execution_count": null,
      "outputs": []
    },
    {
      "cell_type": "code",
      "source": [
        "df.drop([\"Total charge\", \"Total calls\"], axis=1, inplace=True)\n"
      ],
      "metadata": {
        "id": "ZGhx9K0MrqTB"
      },
      "execution_count": null,
      "outputs": []
    },
    {
      "cell_type": "code",
      "source": [
        "df.drop([1, 2]).head()\n"
      ],
      "metadata": {
        "id": "ijspFTpgtYwV"
      },
      "execution_count": null,
      "outputs": []
    },
    {
      "cell_type": "code",
      "source": [
        "pd.crosstab(df[\"Churn\"], df[\"International plan\"], margins=True)"
      ],
      "metadata": {
        "id": "PfbJ3WKRtbmQ"
      },
      "execution_count": null,
      "outputs": []
    },
    {
      "cell_type": "code",
      "source": [
        "sns.countplot(x=\"International plan\", hue=\"Churn\", data=df);\n"
      ],
      "metadata": {
        "id": "kuQKxvBztgTz"
      },
      "execution_count": null,
      "outputs": []
    },
    {
      "cell_type": "code",
      "source": [
        "pd.crosstab(df[\"Churn\"], df[\"Customer service calls\"], margins=True)"
      ],
      "metadata": {
        "id": "AkvKPi6DtnEw"
      },
      "execution_count": null,
      "outputs": []
    },
    {
      "cell_type": "code",
      "source": [
        "sns.countplot(x=\"Customer service calls\", hue=\"Churn\", data=df);"
      ],
      "metadata": {
        "id": "cydL5LiutsNx"
      },
      "execution_count": null,
      "outputs": []
    },
    {
      "cell_type": "code",
      "source": [
        "df[\"Many_service_calls\"] = (df[\"Customer service calls\"] > 3).astype(\"int\")\n",
        "\n",
        "pd.crosstab(df[\"Many_service_calls\"], df[\"Churn\"], margins=True)"
      ],
      "metadata": {
        "id": "kQVDnQxKtv6e"
      },
      "execution_count": null,
      "outputs": []
    },
    {
      "cell_type": "code",
      "source": [
        "sns.countplot(x=\"Many_service_calls\", hue=\"Churn\", data=df);"
      ],
      "metadata": {
        "id": "VcoYVTEct0VZ"
      },
      "execution_count": null,
      "outputs": []
    }
  ]
}